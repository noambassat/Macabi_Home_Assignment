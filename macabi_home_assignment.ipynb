{
  "nbformat": 4,
  "nbformat_minor": 0,
  "metadata": {
    "colab": {
      "provenance": [],
      "toc_visible": true,
      "machine_shape": "hm",
      "gpuType": "T4",
      "authorship_tag": "ABX9TyNJhmlXNNjjBy6kGY1BwDDf",
      "include_colab_link": true
    },
    "kernelspec": {
      "name": "python3",
      "display_name": "Python 3"
    },
    "language_info": {
      "name": "python"
    },
    "accelerator": "GPU"
  },
  "cells": [
    {
      "cell_type": "markdown",
      "metadata": {
        "id": "view-in-github",
        "colab_type": "text"
      },
      "source": [
        "<a href=\"https://colab.research.google.com/github/noambassat/Macabi_Home_Assignment/blob/main/macabi_home_assignment.ipynb\" target=\"_parent\"><img src=\"https://colab.research.google.com/assets/colab-badge.svg\" alt=\"Open In Colab\"/></a>"
      ]
    },
    {
      "cell_type": "code",
      "source": [
        "pip install ydata-profiling --quiet"
      ],
      "metadata": {
        "id": "w3wvDgjMKgkM"
      },
      "execution_count": 794,
      "outputs": []
    },
    {
      "cell_type": "code",
      "source": [
        "pip install sweetviz --quiet"
      ],
      "metadata": {
        "id": "dUT05yWYLNbX"
      },
      "execution_count": 795,
      "outputs": []
    },
    {
      "cell_type": "code",
      "source": [
        "!wget -O Alef-Regular.ttf https://github.com/google/fonts/raw/main/ofl/alef/Alef-Regular.ttf --quiet\n",
        "\n",
        "!pip install python-bidi arabic-reshaper --quiet\n",
        "\n"
      ],
      "metadata": {
        "id": "CXTrQkyqLQ5c"
      },
      "execution_count": 796,
      "outputs": []
    },
    {
      "cell_type": "code",
      "source": [
        "# IMPORTS\n",
        "import re\n",
        "import pandas as pd\n",
        "import numpy as np\n",
        "import matplotlib.pyplot as plt\n",
        "import seaborn as sns\n",
        "from collections import defaultdict\n",
        "from ydata_profiling import ProfileReport\n",
        "from scipy import stats\n",
        "from scipy.stats import ttest_ind,pointbiserialr\n",
        "from bidi.algorithm import get_display\n",
        "from wordcloud import WordCloud\n",
        "import torch\n",
        "from tqdm import tqdm\n",
        "from sentence_transformers import SentenceTransformer\n",
        "from sklearn.preprocessing import StandardScaler\n",
        "from sklearn.feature_selection import chi2\n",
        "from sklearn.model_selection import StratifiedKFold\n",
        "from sklearn.feature_extraction.text import TfidfVectorizer\n",
        "from sklearn.metrics import roc_auc_score, confusion_matrix, classification_report\n",
        "from sklearn.utils.class_weight import compute_class_weight\n",
        "import lightgbm as lgb\n",
        "import warnings\n",
        "from sklearn.metrics import precision_recall_curve\n",
        "\n",
        "warnings.filterwarnings('ignore')\n"
      ],
      "metadata": {
        "id": "WvxJhf02S4Ie"
      },
      "execution_count": 842,
      "outputs": []
    },
    {
      "cell_type": "code",
      "source": [
        "df = pd.read_csv('ds_assignment_data.csv')\n",
        "df.head()"
      ],
      "metadata": {
        "id": "8_EZRxhfS8W8"
      },
      "execution_count": null,
      "outputs": []
    },
    {
      "cell_type": "code",
      "source": [
        "df.info()"
      ],
      "metadata": {
        "id": "XLcbdFrFTdpM"
      },
      "execution_count": null,
      "outputs": []
    },
    {
      "cell_type": "code",
      "source": [
        "for col in df.columns: print(col)"
      ],
      "metadata": {
        "id": "ZNqAzZp5U7L2"
      },
      "execution_count": null,
      "outputs": []
    },
    {
      "cell_type": "code",
      "source": [
        "df[\"Y\"].value_counts()"
      ],
      "metadata": {
        "id": "bTljEOat5MnF"
      },
      "execution_count": null,
      "outputs": []
    },
    {
      "cell_type": "code",
      "source": [
        "df.dtypes.value_counts()"
      ],
      "metadata": {
        "id": "7uJFdBNA5Q09"
      },
      "execution_count": null,
      "outputs": []
    },
    {
      "cell_type": "code",
      "source": [
        "\n",
        "all_columns = df.columns.tolist()\n",
        "\n",
        "group1 = []  # match_* columns\n",
        "group2 = []  # *_sum columns\n",
        "group3 = []  # everything else\n",
        "\n",
        "for col in all_columns:\n",
        "    if(col==\"Y\"):\n",
        "      group1.append(col)\n",
        "      continue\n",
        "    if col.startswith(\"match_\"):\n",
        "        group1.append(col)\n",
        "    elif col.endswith(\"_sum\"):\n",
        "        group2.append(col)\n",
        "    else:\n",
        "        group3.append(col)\n",
        "\n",
        "# Group 3: divide by prefix\n",
        "prefix_groups = defaultdict(list)\n",
        "for col in group3:\n",
        "    prefix = col.split(\"_\")[0]\n",
        "    prefix_groups[prefix].append(col)\n",
        "\n",
        "\n",
        "print(\"== Group 1: Y and match_* columns ==\")\n",
        "for col in group1:\n",
        "    print(f\"  - {col}\")\n",
        "\n",
        "print(\"\\n== Group 2: *_sum columns ==\")\n",
        "for col in group2:\n",
        "    print(f\"  - {col}\")\n",
        "\n",
        "print(\"\\n== Group 3: All other columns grouped by prefix ==\")\n",
        "\n",
        "group_3_dict = {}\n",
        "for prefix, cols in prefix_groups.items():\n",
        "    print(f\"{prefix} ({len(cols)}):\")\n",
        "    group_3_dict[prefix] = cols\n",
        "    for col in cols:\n",
        "        print(f\"  - {col}\")\n",
        "    print()\n"
      ],
      "metadata": {
        "id": "kfsJx1-w3B9U"
      },
      "execution_count": null,
      "outputs": []
    },
    {
      "cell_type": "code",
      "source": [
        "df[group3].duplicated().sum()"
      ],
      "metadata": {
        "id": "FD0qGiN-dC5T"
      },
      "execution_count": null,
      "outputs": []
    },
    {
      "cell_type": "code",
      "source": [
        "def initial_analysis(df: pd.DataFrame, group: list):\n",
        "\n",
        "    display(df[group].info())\n",
        "\n",
        "    drop_cols = []\n",
        "    for col in group:\n",
        "        print(f\"\\n=== {col} ===\")\n",
        "        vc = df[col].value_counts(dropna=False)\n",
        "        display(vc)\n",
        "\n",
        "        # Drop if only one unique value (constant)\n",
        "        if df[col].nunique(dropna=False) == 1:\n",
        "            drop_cols.append(col)\n",
        "\n",
        "        # If continuous (numeric with many unique values), show stats\n",
        "        elif pd.api.types.is_numeric_dtype(df[col]) and df[col].nunique(dropna=False) > 10:\n",
        "            print(\"\\n[describe()]\")\n",
        "            display(df[col].describe())\n",
        "\n",
        "    updated_group = [col for col in group if col not in drop_cols]\n",
        "\n",
        "    return updated_group, drop_cols\n"
      ],
      "metadata": {
        "id": "vF0lUVtsGY9B"
      },
      "execution_count": null,
      "outputs": []
    },
    {
      "cell_type": "markdown",
      "source": [
        "## Group 1 - Target & Source Flags"
      ],
      "metadata": {
        "id": "xr0GEiyQBQHq"
      }
    },
    {
      "cell_type": "code",
      "source": [
        "group1, drop_cols = initial_analysis(df, group1)"
      ],
      "metadata": {
        "id": "WQwf-2vjGf3g"
      },
      "execution_count": null,
      "outputs": []
    },
    {
      "cell_type": "code",
      "source": [
        "df.drop(columns=drop_cols,inplace=True)"
      ],
      "metadata": {
        "id": "kTz7E8-4pwMO"
      },
      "execution_count": null,
      "outputs": []
    },
    {
      "cell_type": "code",
      "source": [
        "group1_counts = pd.DataFrame(df[group1].value_counts().sort_values(ascending=False))\n",
        "group1_counts"
      ],
      "metadata": {
        "id": "G5nYXZBJB0AX"
      },
      "execution_count": null,
      "outputs": []
    },
    {
      "cell_type": "code",
      "source": [
        "print(drop_cols)"
      ],
      "metadata": {
        "id": "j7xIT0VkJLmt"
      },
      "execution_count": null,
      "outputs": []
    },
    {
      "cell_type": "code",
      "source": [
        "# How many Y=1 have each match flag\n",
        "df[df[\"Y\"] == 1][group1].sum().sort_values()"
      ],
      "metadata": {
        "id": "gTN47GcF6lRU"
      },
      "execution_count": null,
      "outputs": []
    },
    {
      "cell_type": "code",
      "source": [
        "match_counts = df.loc[df[\"Y\"] == 1, group1[:-1]].sum(axis=1)\n",
        "match_counts.value_counts().sort_index()"
      ],
      "metadata": {
        "id": "3OX2XelQ63GW"
      },
      "execution_count": null,
      "outputs": []
    },
    {
      "cell_type": "code",
      "source": [
        "group1"
      ],
      "metadata": {
        "id": "u3lhct5xnQRI"
      },
      "execution_count": null,
      "outputs": []
    },
    {
      "cell_type": "code",
      "source": [
        "# Check for Y=1 rows with no match flags\n",
        "df[\"no_match\"] = (df[group1].sum(axis=1) == 0)\n",
        "df[df[\"Y\"] == 1][\"no_match\"].sum()"
      ],
      "metadata": {
        "id": "27kivdx467NP"
      },
      "execution_count": null,
      "outputs": []
    },
    {
      "cell_type": "code",
      "source": [
        "# Check for Y=0 rows with match flags\n",
        "df[(df[\"Y\"] == 0) & (df[group1[:-1]].sum(axis=1) > 0)]"
      ],
      "metadata": {
        "id": "Myv9KMbt-zUD"
      },
      "execution_count": null,
      "outputs": []
    },
    {
      "cell_type": "code",
      "source": [],
      "metadata": {
        "id": "MnGtkWnT_BuV"
      },
      "execution_count": null,
      "outputs": []
    },
    {
      "cell_type": "markdown",
      "source": [
        "Summary of Target & Source Flags (Group 1):\n",
        "\n",
        "- Y = 1 in 432 patients.\n",
        "- All patients with Y=1 have at least one match_* flag > 0, indicating consistent labeling with diagnosis sources.\n",
        "- match_measure_after is always 0 and was removed from the dataset.\n",
        "- There are no missing values in any of the Group 1 columns.\n",
        "- Among Y=1 cases:\n",
        "  - 346 patients have exactly one match_* source.\n",
        "  - 72 have two match sources.\n",
        "  - 14 have three match sources.\n",
        "- No patients with Y=0 have any match_* flags set to 1, confirming that match flags only appear in positively labeled cases.\n"
      ],
      "metadata": {
        "id": "rm0QUtLXAqsq"
      }
    },
    {
      "cell_type": "markdown",
      "source": [
        "## Group 2 - Diagnostic Subtype Counts"
      ],
      "metadata": {
        "id": "rnzli2bZBU6l"
      }
    },
    {
      "cell_type": "code",
      "source": [
        "group2, drop_cols2 = initial_analysis(df, group2)"
      ],
      "metadata": {
        "id": "1gegVbSp9CLB"
      },
      "execution_count": null,
      "outputs": []
    },
    {
      "cell_type": "markdown",
      "source": [
        "בהוראות המשימה נאמר:\n",
        "\n",
        "•\tCohort: Low- and moderate-risk pregnancies only. High-risk patients (known prior hypertensive disorders) are already automatically referred for testing and excluded from this dataset.\n",
        "•\tPrediction point: Week 15 of gestation. All features are aggregated backwards from that date.\n",
        "\n",
        "\n",
        "כנראה בגלל זה העמודות הרלוונטיות ריקות, נסיר אותן"
      ],
      "metadata": {
        "id": "t_V7S2PipFKn"
      }
    },
    {
      "cell_type": "code",
      "source": [
        "df.drop(columns=drop_cols2,inplace=True)"
      ],
      "metadata": {
        "id": "En4PEAzZp4rH"
      },
      "execution_count": null,
      "outputs": []
    },
    {
      "cell_type": "code",
      "source": [
        "# Count unique combinations of the group2 columns\n",
        "value_counts_df = df[group2].value_counts().reset_index(name='count')\n",
        "\n",
        "value_counts_df.sort_values(by='count', ascending=False).sort_values(by='eclampsia_sum', ascending=False)"
      ],
      "metadata": {
        "id": "7SdgjQoBtcz3"
      },
      "execution_count": null,
      "outputs": []
    },
    {
      "cell_type": "code",
      "source": [
        "group_2_corr = df[[\"essential_hypertension_sum\", \"pregnancy_hypertension_sum\", \"preeclampsia_sum\", \"eclampsia_sum\", \"labs_sum\"]].corr().abs()\n",
        "sns.heatmap(group_2_corr, annot=True)"
      ],
      "metadata": {
        "id": "xHWT6xnZ6OfG"
      },
      "execution_count": null,
      "outputs": []
    },
    {
      "cell_type": "markdown",
      "source": [
        "\n",
        "1. טבלת צירופים (count)\n",
        "רוב הנשים (9713 מתוך 10,000) לא קיבלו שום אבחנה (כל המשתנים בקבוצה 2 = 0).\n",
        "\n",
        "המקרים הנפוצים ביותר בקרב Y=1 הם:\n",
        "\n",
        "רק preeclampsia_sum = 1 (65 נשים)\n",
        "\n",
        "רק pregnancy_hypertension_sum = 1 (53 נשים)\n",
        "\n",
        "רק essential_hypertension_sum = 1 (45 נשים)\n",
        "\n",
        "יש מיעוט קטן מאוד עם כמה אבחנות יחד (3 אבחנות ומעלה – רק בודדות).\n",
        "\n",
        "labs_sum מופיע לבד ב־35 נשים – מעיד על ניטור, לא על חומרה גבוהה.\n",
        "\n",
        "2. קורלציות\n",
        "הקורלציות נמוכות עד בינוניות בין המשתנים"
      ],
      "metadata": {
        "id": "WCYaxjtf7vNm"
      }
    },
    {
      "cell_type": "code",
      "source": [
        "df[(df[\"pregnancy_hypertension_sum\"]==1) & (df[\"essential_hypertension_sum\"]==1)].shape[0] # how many womam are both ?"
      ],
      "metadata": {
        "id": "0jFCYz87pbzq"
      },
      "execution_count": null,
      "outputs": []
    },
    {
      "cell_type": "code",
      "source": [
        "df[(df[\"Y\"] == 0) & (df[group2].sum(axis=1) > 0)]"
      ],
      "metadata": {
        "id": "PXbpeHl_PX6N"
      },
      "execution_count": null,
      "outputs": []
    },
    {
      "cell_type": "code",
      "source": [
        "group2"
      ],
      "metadata": {
        "id": "63X-g0uR_RD2"
      },
      "execution_count": null,
      "outputs": []
    },
    {
      "cell_type": "code",
      "source": [
        "\n",
        "def create_severity_features(df):\n",
        "    severity_conditions = [\n",
        "        ('eclampsia_sum', 8),\n",
        "        ('preeclampsia_sum', 7),\n",
        "        ('labs_sum', 6),\n",
        "        ('essential_hypertension_sum', 5),\n",
        "        ('pregnancy_hypertension_sum', 4),\n",
        "        ('match_rasham_after', 3),\n",
        "        ('match_pdf_after', 2),\n",
        "        ('match_aspirin_after', 1),\n",
        "    ]\n",
        "\n",
        "    df['severity_score'] = 0\n",
        "    for col, score in severity_conditions:\n",
        "        df.loc[df[col] == 1, 'severity_score'] = np.maximum(df.loc[df[col] == 1, 'severity_score'], score)\n",
        "\n",
        "    diagnosis_cols = [\n",
        "        'eclampsia_sum',\n",
        "        'preeclampsia_sum',\n",
        "        'labs_sum',\n",
        "        'essential_hypertension_sum',\n",
        "        'pregnancy_hypertension_sum'\n",
        "    ]\n",
        "\n",
        "    df['diagnosis_count'] = df[diagnosis_cols].sum(axis=1)\n",
        "\n",
        "    return df\n",
        "\n",
        "\n",
        "df = create_severity_features(df)\n"
      ],
      "metadata": {
        "id": "WztK7yjPCEwy"
      },
      "execution_count": null,
      "outputs": []
    },
    {
      "cell_type": "code",
      "source": [
        "indicator_cols = group1 + group2\n",
        "indicator_cols.remove('Y')\n",
        "indicator_cols.remove('match_diag_141')\n",
        "indicator_cols"
      ],
      "metadata": {
        "id": "KCRJeCn9FK6U"
      },
      "execution_count": null,
      "outputs": []
    },
    {
      "cell_type": "markdown",
      "source": [
        "## Group3 - Features by Group"
      ],
      "metadata": {
        "id": "TknTDkBKOFBI"
      }
    },
    {
      "cell_type": "code",
      "source": [
        "group_3_dict.keys()"
      ],
      "metadata": {
        "id": "HPMBhS4WL8rh"
      },
      "execution_count": null,
      "outputs": []
    },
    {
      "cell_type": "markdown",
      "source": [
        "### Drop constant"
      ],
      "metadata": {
        "id": "CXrGfMMk-Uf7"
      }
    },
    {
      "cell_type": "code",
      "source": [
        "def get_strict_constant_columns(df, columns):\n",
        "    \"\"\"\n",
        "    Return columns where all values are exactly the same (excluding NaNs).\n",
        "    NaNs break constancy.\n",
        "    \"\"\"\n",
        "    return [col for col in columns if df[col].nunique(dropna=False) == 1 and (df[col].isna().sum() == 0 or df[col].isna().sum() == len(df))]\n"
      ],
      "metadata": {
        "id": "dP-rnyAe-OiV"
      },
      "execution_count": null,
      "outputs": []
    },
    {
      "cell_type": "code",
      "source": [
        "print(get_strict_constant_columns(df,group3))"
      ],
      "metadata": {
        "id": "xdjf0SOG-QDk"
      },
      "execution_count": null,
      "outputs": []
    },
    {
      "cell_type": "code",
      "source": [
        "to_remove = [\"lab_num_of_fetuses_last_value\", \"4_diag_88_days_since_last_diag\"]\n",
        "\n",
        "# Drop from DataFrame\n",
        "df.drop(columns=to_remove, inplace=True)\n",
        "\n",
        "# Drop from group dicts\n",
        "group_3_dict[\"lab\"] = [col for col in group_3_dict[\"lab\"] if col not in to_remove]\n",
        "group_3_dict[\"4\"] = [col for col in group_3_dict[\"4\"] if col not in to_remove]\n",
        "\n",
        "# Drop from group3\n",
        "group3 = [col for col in group3 if col not in to_remove]\n"
      ],
      "metadata": {
        "id": "maauZloX_Wig"
      },
      "execution_count": null,
      "outputs": []
    },
    {
      "cell_type": "code",
      "source": [
        "def plot_filtered_correlation_heatmap(df, columns=group3, threshold=0.8, method='pearson'):\n",
        "    \"\"\"\n",
        "    Plots a full heatmap of correlations for features that have at least one strong correlation\n",
        "    (excluding self-correlation). Keeps only features with at least 2 correlations ≥ threshold\n",
        "    including the diagonal (self-correlation).\n",
        "\n",
        "    Parameters:\n",
        "    - df: DataFrame with data\n",
        "    - columns: list of columns to include (numeric only)\n",
        "    - threshold: minimum absolute correlation to include (e.g. 0.8)\n",
        "    - method: 'pearson', 'spearman', or 'kendall'\n",
        "    \"\"\"\n",
        "    # Select numeric subset\n",
        "    if columns is None:\n",
        "        df_corr = df.select_dtypes(include=['float64', 'int64'])\n",
        "    else:\n",
        "        df_corr = df[columns].select_dtypes(include=['float64', 'int64'])\n",
        "\n",
        "    # Compute correlation matrix\n",
        "    corr = df_corr.corr(method=method)\n",
        "\n",
        "    # Count number of strong correlations (|r| ≥ threshold), including self (diagonal = 1.0)\n",
        "    abs_corr = corr.abs()\n",
        "    strong_counts = (abs_corr >= threshold).sum(axis=1)\n",
        "\n",
        "    # Keep only features with at least 2 strong correlations (self + at least one other)\n",
        "    keep_features = strong_counts[strong_counts >= 2].index\n",
        "    corr_filtered = corr.loc[keep_features, keep_features]\n",
        "\n",
        "    if corr_filtered.empty:\n",
        "        print(f\"No features with ≥1 strong correlation (|r| ≥ {threshold}).\")\n",
        "        return\n",
        "\n",
        "    # Plot full heatmap (no mask)\n",
        "    plt.figure(figsize=(max(10, 0.5 * len(corr_filtered)), max(6, 0.5 * len(corr_filtered))))\n",
        "    sns.heatmap(corr_filtered, annot=True, cmap='coolwarm',\n",
        "                vmin=-1, vmax=1, linewidths=0.5, fmt=\".2f\")\n",
        "    plt.title(f'Correlation Heatmap | ≥1 strong correlation (|r| ≥ {threshold})')\n",
        "    plt.xticks(rotation=45, ha='right')\n",
        "    plt.yticks(rotation=0)\n",
        "    plt.tight_layout()\n",
        "    plt.show()\n"
      ],
      "metadata": {
        "id": "sBld5_FB9JJ8"
      },
      "execution_count": null,
      "outputs": []
    },
    {
      "cell_type": "code",
      "source": [
        "def plot_feature_distribution(df, columns, lower=0.01, upper=0.99):\n",
        "    for col in columns:\n",
        "        # percentile bounds\n",
        "        lower_bound = df[col].quantile(lower)\n",
        "        upper_bound = df[col].quantile(upper)\n",
        "\n",
        "        # histogram\n",
        "        plt.figure(figsize=(6, 4))\n",
        "        sns.histplot(data=df, x=col)\n",
        "        plt.title(col)\n",
        "        plt.tight_layout()\n",
        "        plt.show()\n",
        "\n",
        "        # boxplot with percentile lines\n",
        "        plt.figure(figsize=(6, 3))\n",
        "        sns.boxplot(data=df, x=col)\n",
        "        plt.axvline(lower_bound, color='red', linestyle='--')\n",
        "        plt.axvline(upper_bound, color='red', linestyle='--')\n",
        "        plt.title(col)\n",
        "        plt.tight_layout()\n",
        "        plt.show()\n"
      ],
      "metadata": {
        "id": "ttT_WM5pA6F7"
      },
      "execution_count": null,
      "outputs": []
    },
    {
      "cell_type": "code",
      "source": [
        "def plot_feature_by_group(df, x_col, y_col, title=None):\n",
        "    \"\"\"\n",
        "    Plots a boxplot using the given DataFrame, X and Y column names.\n",
        "\n",
        "    Parameters:\n",
        "        df (pd.DataFrame): The input DataFrame.\n",
        "        x_col (str): The column name for the X-axis (categorical).\n",
        "        y_col (str): The column name for the Y-axis (numeric).\n",
        "        title (str, optional): Title of the plot. Defaults to auto-generated.\n",
        "    \"\"\"\n",
        "    plt.figure(figsize=(6, 4))\n",
        "    sns.boxplot(x=x_col, y=y_col, data=df)\n",
        "\n",
        "    if title is None:\n",
        "        title = f'{y_col} Distribution by {x_col}'\n",
        "\n",
        "    plt.title(title)\n",
        "    plt.xlabel(x_col)\n",
        "    plt.ylabel(y_col)\n",
        "    plt.tight_layout()\n",
        "    plt.show()\n",
        "\n",
        "\n",
        "\n",
        "\n",
        "    plt.figure(figsize=(6,4))\n",
        "    sns.barplot(x=x_col, y=y_col, data=df)\n",
        "    plt.title(f'{y_col} by {x_col}')\n",
        "    plt.xlabel(x_col)\n",
        "    plt.ylabel(f'{y_col}')\n",
        "    plt.show()"
      ],
      "metadata": {
        "id": "CBL-bw3tfsWy"
      },
      "execution_count": null,
      "outputs": []
    },
    {
      "cell_type": "code",
      "source": [
        "group_3_dict.keys()"
      ],
      "metadata": {
        "id": "aPeewpkl_wzJ"
      },
      "execution_count": null,
      "outputs": []
    },
    {
      "cell_type": "markdown",
      "source": [
        "### Handle features by types (prefix)"
      ],
      "metadata": {
        "id": "0Zjyx4ND9L-v"
      }
    },
    {
      "cell_type": "markdown",
      "source": [
        "#### init_date"
      ],
      "metadata": {
        "id": "77nybUykcrV4"
      }
    },
    {
      "cell_type": "code",
      "source": [
        "df[group_3_dict[\"int\"]].info()"
      ],
      "metadata": {
        "id": "UHVEgIpQZP6x"
      },
      "execution_count": null,
      "outputs": []
    },
    {
      "cell_type": "code",
      "source": [
        "df[group_3_dict[\"int\"]].describe()"
      ],
      "metadata": {
        "id": "Rc3Muj35ZYrG"
      },
      "execution_count": null,
      "outputs": []
    },
    {
      "cell_type": "code",
      "source": [
        "# Attempt to interpret int_date as datetime\n",
        "df['int_date_dt'] = pd.to_datetime(df['int_date'], origin='1899-12-30', unit='D')\n",
        "df['int_date_dt'].describe()"
      ],
      "metadata": {
        "id": "wFgumBdYcQEb"
      },
      "execution_count": null,
      "outputs": []
    },
    {
      "cell_type": "markdown",
      "source": [
        "התוצאות מראות שהמשתנה כנראה לא מתאר תאריך אמיתי\\לא חליץ"
      ],
      "metadata": {
        "id": "btwFWDl3cku5"
      }
    },
    {
      "cell_type": "code",
      "source": [
        "# Based on the range of years (e.g. 1900 to 2147), this column does not represent a valid date.\n",
        "# We drop both the original and derived columns.\n",
        "df.drop(columns=['int_date', 'int_date_dt'], inplace=True)"
      ],
      "metadata": {
        "id": "DJNSxNSDdg64"
      },
      "execution_count": null,
      "outputs": []
    },
    {
      "cell_type": "code",
      "source": [
        "group_3_dict['int'].remove('int_date')\n",
        "group3.remove('int_date')"
      ],
      "metadata": {
        "id": "nZfyRwK0G86J"
      },
      "execution_count": null,
      "outputs": []
    },
    {
      "cell_type": "markdown",
      "source": [
        "#### Demog"
      ],
      "metadata": {
        "id": "C9Mwf_scc0Yd"
      }
    },
    {
      "cell_type": "code",
      "source": [
        "df[group_3_dict['demog']].info()"
      ],
      "metadata": {
        "id": "HDGKLeI_cw9T"
      },
      "execution_count": null,
      "outputs": []
    },
    {
      "cell_type": "code",
      "source": [
        "df[group_3_dict['demog']].describe()"
      ],
      "metadata": {
        "id": "6wTuA0s7c7pL"
      },
      "execution_count": null,
      "outputs": []
    },
    {
      "cell_type": "code",
      "source": [
        "df.groupby('Y')['demog_customer_age'].describe()"
      ],
      "metadata": {
        "id": "67j65-QUgZfw"
      },
      "execution_count": null,
      "outputs": []
    },
    {
      "cell_type": "code",
      "source": [
        "plot_feature_by_group(df, 'Y', 'demog_customer_age')"
      ],
      "metadata": {
        "id": "fFBLyctPfPlA"
      },
      "execution_count": null,
      "outputs": []
    },
    {
      "cell_type": "code",
      "source": [
        "plot_feature_distribution(df, ['demog_customer_age'])"
      ],
      "metadata": {
        "id": "yBq554KqBxWd"
      },
      "execution_count": null,
      "outputs": []
    },
    {
      "cell_type": "code",
      "source": [
        "df['demog_capitationcoefficient'].value_counts().sort_index().plot(kind='bar', figsize=(12, 3))"
      ],
      "metadata": {
        "id": "0B6ZhACfeFYH"
      },
      "execution_count": null,
      "outputs": []
    },
    {
      "cell_type": "code",
      "source": [
        "df[\"demog_capitationcoefficient\"].unique()"
      ],
      "metadata": {
        "id": "3UjjnEVWr8Uk"
      },
      "execution_count": null,
      "outputs": []
    },
    {
      "cell_type": "code",
      "source": [
        "print(\"Distribution of Y by whether 'demog_customer_age' is missing:\")\n",
        "df.groupby(df['demog_customer_age'].isna())['Y'].value_counts(normalize=True)"
      ],
      "metadata": {
        "id": "NtPLjeSReFbG"
      },
      "execution_count": null,
      "outputs": []
    },
    {
      "cell_type": "code",
      "source": [
        "print(\"Summary statistics for 'demog_capitationcoefficient' grouped by missingness of 'demog_customer_age':\")\n",
        "(df.groupby(df['demog_customer_age'].isna())['demog_capitationcoefficient'].describe())"
      ],
      "metadata": {
        "id": "eSje1Zv6huMG"
      },
      "execution_count": null,
      "outputs": []
    },
    {
      "cell_type": "code",
      "source": [
        "df[df['demog_customer_age'].isna() & df['demog_capitationcoefficient'].isna()].shape"
      ],
      "metadata": {
        "id": "Dji2DZbHimME"
      },
      "execution_count": null,
      "outputs": []
    },
    {
      "cell_type": "code",
      "source": [
        "df[df['demog_customer_age'].isna()].index == df[df['demog_capitationcoefficient'].isna()].index"
      ],
      "metadata": {
        "id": "x8Ds99Pls-55"
      },
      "execution_count": null,
      "outputs": []
    },
    {
      "cell_type": "code",
      "source": [
        "df[df['demog_customer_age'].isna()]['Y'].value_counts()"
      ],
      "metadata": {
        "id": "3wIg1abltYUg"
      },
      "execution_count": null,
      "outputs": []
    },
    {
      "cell_type": "markdown",
      "source": [
        "##### Handle missing demog"
      ],
      "metadata": {
        "id": "1h9KUMQ5i5Yp"
      }
    },
    {
      "cell_type": "code",
      "source": [
        "df.dropna(subset=['demog_customer_age', 'demog_capitationcoefficient'],inplace=True)"
      ],
      "metadata": {
        "id": "cXUMJmyfioEY"
      },
      "execution_count": null,
      "outputs": []
    },
    {
      "cell_type": "markdown",
      "source": [
        "החלטתי להסיר את השורות עם חוסר בגיל ובמקדם הקפיטציה מאחר שחסרים בהן כל המשתנים הדמוגרפיים המרכזיים, אין בהן אבחנות (Y=1), ומספרן זניח כך שהשפעת הסרתן על המודל אינה משמעותית.\n"
      ],
      "metadata": {
        "id": "Lh88ChbBkCbx"
      }
    },
    {
      "cell_type": "markdown",
      "source": [
        "#### Smoking"
      ],
      "metadata": {
        "id": "fgK6VLb8SdiR"
      }
    },
    {
      "cell_type": "markdown",
      "source": [
        "#####  Smoking Analysis"
      ],
      "metadata": {
        "id": "ebZJ6QtUY9rD"
      }
    },
    {
      "cell_type": "code",
      "source": [
        "smoking_cols = group_3_dict[\"smoking\"]"
      ],
      "metadata": {
        "id": "njSxNTeENeDR"
      },
      "execution_count": null,
      "outputs": []
    },
    {
      "cell_type": "code",
      "source": [
        "df[smoking_cols].info()"
      ],
      "metadata": {
        "id": "D1C4ObVjNT5L"
      },
      "execution_count": null,
      "outputs": []
    },
    {
      "cell_type": "code",
      "source": [
        "df[smoking_cols].describe()"
      ],
      "metadata": {
        "id": "7eZatGxfNaP3"
      },
      "execution_count": null,
      "outputs": []
    },
    {
      "cell_type": "code",
      "source": [
        "df['smoking_is_smoker'].value_counts(dropna=False)"
      ],
      "metadata": {
        "id": "HHm_e9UpPXU3"
      },
      "execution_count": null,
      "outputs": []
    },
    {
      "cell_type": "code",
      "source": [
        "df['smoking_is_smoker'] = df['smoking_is_smoker'].astype('category')"
      ],
      "metadata": {
        "id": "lwnqKF92Qrr3"
      },
      "execution_count": null,
      "outputs": []
    },
    {
      "cell_type": "code",
      "source": [
        "df.groupby(df['smoking_is_smoker'].isna())['Y'].value_counts(normalize=True)"
      ],
      "metadata": {
        "id": "50CysN02kvAz"
      },
      "execution_count": null,
      "outputs": []
    },
    {
      "cell_type": "code",
      "source": [
        "df.groupby(df['smoking_is_smoker'].isna())['demog_customer_age'].describe()\n",
        "\n"
      ],
      "metadata": {
        "id": "3h8bqJsek8-3"
      },
      "execution_count": null,
      "outputs": []
    },
    {
      "cell_type": "code",
      "source": [
        "df.groupby(df['smoking_is_smoker'].isna())['demog_capitationcoefficient'].describe()"
      ],
      "metadata": {
        "id": "apwR1zk3k-ng"
      },
      "execution_count": null,
      "outputs": []
    },
    {
      "cell_type": "markdown",
      "source": [
        "מסקנה:\n",
        "\n",
        "החוסר ב־smoking_is_smoker כנראה לא רנדומלי לחלוטין (לא MCAR טהור) —\n",
        "\n",
        "אבל ההשפעה על Y מאוד מתונה\n",
        "\n",
        "החוסרים ב־smoking_is_smoker כנראה MAR מתון"
      ],
      "metadata": {
        "id": "a9mC26ZvlwhZ"
      }
    },
    {
      "cell_type": "code",
      "source": [
        "# האם כדאי להוסיף משתנה אינדיקטור לחוסר במשתנה העישון ?\n",
        "# df['is_smoker_missing'] = df['smoking_is_smoker'].isna().astype(int)\n"
      ],
      "metadata": {
        "id": "-FB181fml62E"
      },
      "execution_count": null,
      "outputs": []
    },
    {
      "cell_type": "markdown",
      "source": [],
      "metadata": {
        "id": "XqIGWdNzl-s7"
      }
    },
    {
      "cell_type": "code",
      "source": [
        "plot_feature_by_group(df, 'smoking_is_smoker', 'Y')"
      ],
      "metadata": {
        "id": "0oYHTTwXCeJg"
      },
      "execution_count": null,
      "outputs": []
    },
    {
      "cell_type": "code",
      "source": [
        "df[df['smoking_smoking_years'] > 40][['smoking_smoking_years']].shape[0]"
      ],
      "metadata": {
        "id": "17OOBaBGRHjr"
      },
      "execution_count": null,
      "outputs": []
    },
    {
      "cell_type": "markdown",
      "source": [
        "140 נשים הריניות שמעשנות מעל 40 שנה ? לא הגיוני וזה ערך חריג\\טעות"
      ],
      "metadata": {
        "id": "EM4aWsXRV5s8"
      }
    },
    {
      "cell_type": "code",
      "source": [
        "df.groupby('smoking_is_smoker')['smoking_smoking_years'].describe()"
      ],
      "metadata": {
        "id": "1poFPkeZRPXt"
      },
      "execution_count": null,
      "outputs": []
    },
    {
      "cell_type": "code",
      "source": [
        "df['smoking_total_heavy_smokers'].value_counts().sort_index()"
      ],
      "metadata": {
        "id": "Sxmz53bIQDqC"
      },
      "execution_count": null,
      "outputs": []
    },
    {
      "cell_type": "code",
      "source": [
        "df.groupby('smoking_is_smoker')['smoking_total_heavy_smokers'].mean()"
      ],
      "metadata": {
        "id": "kf4Ny51pR0el"
      },
      "execution_count": null,
      "outputs": []
    },
    {
      "cell_type": "code",
      "source": [
        "df.groupby(df['smoking_total_heavy_smokers'] > 0)['Y'].mean()"
      ],
      "metadata": {
        "id": "31LNMUHIR4Mq"
      },
      "execution_count": null,
      "outputs": []
    },
    {
      "cell_type": "code",
      "source": [
        "df[(df['smoking_is_smoker'] != 0) & (df['smoking_smoking_years'] == 0)][smoking_cols].shape"
      ],
      "metadata": {
        "id": "t2QfRluGR-Pb"
      },
      "execution_count": null,
      "outputs": []
    },
    {
      "cell_type": "markdown",
      "source": [
        "מה המשמעות?\n",
        "מדובר על 257 נשים שמדווחות כמעשנות בעבר או בהווה, אבל לכאורה עישנו אפס שנים.\n",
        "\n",
        "מתוך 257:\n",
        "\n",
        "רובן עם smoking_is_smoker == 2.0 → כנראה דיווח לקוי של מעשנות בעבר שלא מסרו משך עישון.\n",
        "\n",
        "מעטות עם smoking_is_smoker == 1.0 → זו כבר סתירה חמורה יותר."
      ],
      "metadata": {
        "id": "RL_-yk6WVmRv"
      }
    },
    {
      "cell_type": "code",
      "source": [
        "df[(df['smoking_is_smoker'].isna()) & (~df['smoking_smoking_years'].isna())][smoking_cols]"
      ],
      "metadata": {
        "id": "nKKsBzsGSO0e"
      },
      "execution_count": null,
      "outputs": []
    },
    {
      "cell_type": "code",
      "source": [
        "df[(df['smoking_is_smoker'] == 0) & (df['smoking_smoking_years'] != 0)][smoking_cols]"
      ],
      "metadata": {
        "id": "g-nvsrD4SGSk"
      },
      "execution_count": null,
      "outputs": []
    },
    {
      "cell_type": "code",
      "source": [
        "plot_feature_by_group(df, 'smoking_is_smoker', 'smoking_smoking_years')"
      ],
      "metadata": {
        "id": "z1cQk_NuVH-o"
      },
      "execution_count": null,
      "outputs": []
    },
    {
      "cell_type": "code",
      "source": [
        "plt.figure(figsize=(6,4))\n",
        "sns.histplot(df['smoking_smoking_years'], bins=30, kde=True)\n",
        "plt.title('Histogram of Smoking Years')\n",
        "plt.xlabel('Smoking Years')\n",
        "plt.ylabel('Count')\n",
        "plt.show()"
      ],
      "metadata": {
        "id": "vUAECw8wVP_a"
      },
      "execution_count": null,
      "outputs": []
    },
    {
      "cell_type": "markdown",
      "source": [
        "##### Handle Smoking Annomals\n"
      ],
      "metadata": {
        "id": "rrg-l5blUFQ-"
      }
    },
    {
      "cell_type": "markdown",
      "source": [
        "אפשר לנסות לחלץ משמעותיות עישון מהטקסט החופשי של הרופא, אבל כיוון שהקורלציה בין המשתנים האלה למשתנה המטרה כשלעצמה מאוד נמוכה, אטפל בזה כרגע בצורה נאיבית."
      ],
      "metadata": {
        "id": "5d-k_oAiWRv-"
      }
    },
    {
      "cell_type": "markdown",
      "source": [
        "מעל 40 שנות עישון זה לא הגיוני לנשים בהריון, הן מקסימום בנות 45, ולא מעשנות מגיל 5, ככה שגם 40 זה טווח מוגדל"
      ],
      "metadata": {
        "id": "uMQMo1BeWhX4"
      }
    },
    {
      "cell_type": "code",
      "source": [
        "(df['smoking_smoking_years'].isna() & (df['smoking_is_smoker'].notna())).sum()"
      ],
      "metadata": {
        "id": "HN9oPy3hYXJW"
      },
      "execution_count": null,
      "outputs": []
    },
    {
      "cell_type": "code",
      "source": [
        "df.loc[df['smoking_smoking_years'] > 50, 'smoking_smoking_years'] = np.nan"
      ],
      "metadata": {
        "id": "9vEQkDucUEBC"
      },
      "execution_count": null,
      "outputs": []
    },
    {
      "cell_type": "code",
      "source": [
        "df.loc[(df['smoking_is_smoker'].isin([1, 2])) & (df['smoking_smoking_years'] == 0), 'smoking_smoking_years'] = np.nan"
      ],
      "metadata": {
        "id": "lZTs6uuGH7HF"
      },
      "execution_count": null,
      "outputs": []
    },
    {
      "cell_type": "code",
      "source": [
        "plt.figure(figsize=(6,4))\n",
        "sns.histplot(df['smoking_smoking_years'].dropna(), bins=30, kde=True)\n",
        "plt.title('Histogram of Smoking Years')\n",
        "plt.xlabel('Smoking Years')\n",
        "plt.ylabel('Count')\n",
        "plt.show()"
      ],
      "metadata": {
        "id": "Z1cL_c5qWv01"
      },
      "execution_count": null,
      "outputs": []
    },
    {
      "cell_type": "code",
      "source": [
        "plot_feature_by_group(df, 'smoking_is_smoker', 'smoking_smoking_years')"
      ],
      "metadata": {
        "id": "Oa4eZLgJXQ6m"
      },
      "execution_count": null,
      "outputs": []
    },
    {
      "cell_type": "code",
      "source": [
        "(df['smoking_smoking_years'].isna() & (df['smoking_is_smoker'].notna())).sum()"
      ],
      "metadata": {
        "id": "_uCUbb5DH7ON"
      },
      "execution_count": null,
      "outputs": []
    },
    {
      "cell_type": "code",
      "source": [
        "mask = df['smoking_smoking_years'].isna() & df['smoking_is_smoker'].notna()\n",
        "df.loc[mask, 'Y'].value_counts(normalize=True)"
      ],
      "metadata": {
        "id": "CPiTCRPfjKTM"
      },
      "execution_count": null,
      "outputs": []
    },
    {
      "cell_type": "code",
      "source": [
        "df.loc[mask, ['demog_customer_age', 'demog_capitationcoefficient']].describe()"
      ],
      "metadata": {
        "id": "81aFYzIUlRoX"
      },
      "execution_count": null,
      "outputs": []
    },
    {
      "cell_type": "code",
      "source": [],
      "metadata": {
        "id": "NgAqsLiGjKWB"
      },
      "execution_count": null,
      "outputs": []
    },
    {
      "cell_type": "code",
      "source": [
        "# pd.set_option('display.max_rows', None)"
      ],
      "metadata": {
        "id": "Ikt1bL-NoLJC"
      },
      "execution_count": null,
      "outputs": []
    },
    {
      "cell_type": "markdown",
      "source": [
        "##### Smoking summary"
      ],
      "metadata": {
        "id": "If0o8WoUnfeA"
      }
    },
    {
      "cell_type": "markdown",
      "source": [
        "לא יצרתי פיצ'ר שמציין חוסרים כי אני לא עושה אימפיוטציה, והמודל ידע להתמודד עם NaN בעצמו.\n",
        "\n",
        "397 שורות שהפכו ל־NaN ב־smoking_smoking_years שומרות מידע חשוב (גיל, קפיטציה), ולכן לא הוסרו.\n",
        "\n",
        "החוסרים ב־smoking_is_smoker כנראה MAR, ללא השפעה מהותית על Y – נשארו בדאטה.\n",
        "\n",
        "\n",
        "\n",
        "\n",
        "\n",
        "\n",
        "\n"
      ],
      "metadata": {
        "id": "bEJohG7DneMb"
      }
    },
    {
      "cell_type": "markdown",
      "source": [
        "#### Lab"
      ],
      "metadata": {
        "id": "4TQ8gNfUnndd"
      }
    },
    {
      "cell_type": "code",
      "source": [
        "df[group_3_dict['lab']].info()"
      ],
      "metadata": {
        "id": "lbQKvN_ynqHj"
      },
      "execution_count": null,
      "outputs": []
    },
    {
      "cell_type": "code",
      "source": [
        "df[group_3_dict['lab']].describe().T"
      ],
      "metadata": {
        "id": "7oCMdyklnzD7"
      },
      "execution_count": null,
      "outputs": []
    },
    {
      "cell_type": "code",
      "source": [
        "plot_feature_distribution(df, group_3_dict['lab'])"
      ],
      "metadata": {
        "id": "gvnUu-IjpzZT"
      },
      "execution_count": null,
      "outputs": []
    },
    {
      "cell_type": "code",
      "source": [
        "plot_filtered_correlation_heatmap(df,group_3_dict['lab'], threshold=0.8, method='pearson')"
      ],
      "metadata": {
        "id": "9rnOyqRq7m6Q"
      },
      "execution_count": null,
      "outputs": []
    },
    {
      "cell_type": "markdown",
      "source": [
        "#### measure"
      ],
      "metadata": {
        "id": "LXoKc_4-pPrP"
      }
    },
    {
      "cell_type": "code",
      "source": [
        "df[group_3_dict['measure']].info()"
      ],
      "metadata": {
        "id": "VPKEt7RVpQt4"
      },
      "execution_count": null,
      "outputs": []
    },
    {
      "cell_type": "code",
      "source": [
        "df[group_3_dict['measure']].describe().T"
      ],
      "metadata": {
        "id": "zHz1tlmuLtXZ"
      },
      "execution_count": null,
      "outputs": []
    },
    {
      "cell_type": "code",
      "source": [
        "plot_feature_distribution(df, group_3_dict['measure'])"
      ],
      "metadata": {
        "id": "fUoJOK3BLtb-"
      },
      "execution_count": null,
      "outputs": []
    },
    {
      "cell_type": "code",
      "source": [
        "plot_filtered_correlation_heatmap(df, columns=group_3_dict['measure'], threshold=0.8, method='pearson')"
      ],
      "metadata": {
        "id": "AJqHrIr38Myu"
      },
      "execution_count": null,
      "outputs": []
    },
    {
      "cell_type": "markdown",
      "source": [
        "#### 4 & 24"
      ],
      "metadata": {
        "id": "IgkmN7DLYEVE"
      }
    },
    {
      "cell_type": "code",
      "source": [
        "group_4_24 = group_3_dict['4'] + group_3_dict['24']"
      ],
      "metadata": {
        "id": "aymM-6yGYO2B"
      },
      "execution_count": null,
      "outputs": []
    },
    {
      "cell_type": "code",
      "source": [
        "df[group_4_24].info()"
      ],
      "metadata": {
        "id": "rExvcKQsYGGS"
      },
      "execution_count": null,
      "outputs": []
    },
    {
      "cell_type": "code",
      "source": [
        "total_rows = df.shape[0]\n",
        "\n",
        "non_missing = df[group_4_24].notna().sum()\n",
        "coverage = (non_missing / total_rows * 100).round(2)\n",
        "\n",
        "low_coverage = pd.DataFrame({\n",
        "    'non_missing_count': non_missing,\n",
        "    'coverage_percent': coverage\n",
        "}).sort_values('non_missing_count')\n",
        "\n",
        "low_coverage = low_coverage[low_coverage['non_missing_count'] < 100]\n",
        "\n",
        "print(low_coverage)"
      ],
      "metadata": {
        "id": "nUCOYJMVY-0r"
      },
      "execution_count": null,
      "outputs": []
    },
    {
      "cell_type": "code",
      "source": [
        "# Calculate Y==1 stats for each column in low_coverage\n",
        "y_1_percent = {}\n",
        "y_1_count = {}\n",
        "y_0_count = {}\n",
        "\n",
        "for col in low_coverage.index.tolist():\n",
        "    valid_rows = df[col].notna()\n",
        "    if valid_rows.sum() > 0:\n",
        "        y_valid = df.loc[valid_rows, 'Y']\n",
        "        y_1_count[col] = int((y_valid == 1).sum())\n",
        "        y_0_count[col] = int((y_valid == 0).sum())\n",
        "        y_1_percent[col] = round(y_valid.mean() * 100, 2)\n",
        "    else:\n",
        "        y_1_count[col] = 0\n",
        "        y_0_count[col] = 0\n",
        "        y_1_percent[col] = None\n",
        "\n",
        "# Add new columns to the table\n",
        "low_coverage['Y==1_count'] = pd.Series(y_1_count)\n",
        "low_coverage['Y==0_count'] = pd.Series(y_0_count)\n",
        "low_coverage['Y==1_percent'] = pd.Series(y_1_percent)\n",
        "\n",
        "# Display updated table\n",
        "display(low_coverage)\n"
      ],
      "metadata": {
        "id": "Uiz3KFu_X95R"
      },
      "execution_count": null,
      "outputs": []
    },
    {
      "cell_type": "code",
      "source": [
        "low_coverage = low_coverage[low_coverage['non_missing_count'] < 10] # drop less than 10 not-null"
      ],
      "metadata": {
        "id": "S4nYwxlHgOgx"
      },
      "execution_count": null,
      "outputs": []
    },
    {
      "cell_type": "code",
      "source": [
        "cols_to_drop = low_coverage.index.tolist()\n",
        "cols_to_drop"
      ],
      "metadata": {
        "id": "Yt_2xLHYch9Q"
      },
      "execution_count": null,
      "outputs": []
    },
    {
      "cell_type": "code",
      "source": [
        "df.drop(columns=cols_to_drop, inplace=True)\n",
        "group_4_24 = [col for col in group_4_24 if col not in cols_to_drop]\n",
        "group3 = [col for col in group3 if col not in cols_to_drop]"
      ],
      "metadata": {
        "id": "okwK51U3aia-"
      },
      "execution_count": null,
      "outputs": []
    },
    {
      "cell_type": "code",
      "source": [],
      "metadata": {
        "id": "2IuVnDKMet9Q"
      },
      "execution_count": null,
      "outputs": []
    },
    {
      "cell_type": "code",
      "source": [
        "# Create two feature groups based on column suffix\n",
        "num_of_diag_cols = [col for col in group_4_24 if col.endswith('_num_of_diag')]\n",
        "days_since_diag_cols = [col for col in group_4_24 if col.endswith('_days_since_last_diag')]"
      ],
      "metadata": {
        "id": "glhr4N1PgE68"
      },
      "execution_count": null,
      "outputs": []
    },
    {
      "cell_type": "markdown",
      "source": [
        "#####num_of_diag_cols"
      ],
      "metadata": {
        "id": "4iSjbY28gSlD"
      }
    },
    {
      "cell_type": "code",
      "source": [
        "df[num_of_diag_cols].describe().T"
      ],
      "metadata": {
        "id": "HOwDUm-ufFsc"
      },
      "execution_count": null,
      "outputs": []
    },
    {
      "cell_type": "code",
      "source": [
        "plot_feature_distribution(df, num_of_diag_cols)"
      ],
      "metadata": {
        "id": "dNrrfIBQiWeT"
      },
      "execution_count": null,
      "outputs": []
    },
    {
      "cell_type": "code",
      "source": [
        "def plot_diag_distribution(df, group):\n",
        "  for column in group:\n",
        "    counts = df[column].value_counts().sort_index()\n",
        "    plt.figure(figsize=(8, 4))\n",
        "    sns.barplot(x=counts.index, y=counts.values)\n",
        "    plt.title(f'Distribution of {column}')\n",
        "    plt.xlabel('Number of diagnoses')\n",
        "    plt.ylabel('Number of patients')\n",
        "    plt.tight_layout()\n",
        "    plt.show()\n",
        "\n",
        "\n",
        "plot_diag_distribution(df,num_of_diag_cols)"
      ],
      "metadata": {
        "id": "nzpzXPRIhrhN"
      },
      "execution_count": null,
      "outputs": []
    },
    {
      "cell_type": "code",
      "source": [
        "df[num_of_diag_cols] = df[num_of_diag_cols].astype(int)"
      ],
      "metadata": {
        "id": "s9MC4EVTje_L"
      },
      "execution_count": null,
      "outputs": []
    },
    {
      "cell_type": "markdown",
      "source": [
        "total_diag_count = מספר האבחנות מכל הסוגים שהאישה קיבלה ב־4 ו־24 החודשים האחרונים.\n",
        "\n",
        "נבנה על בסיס סך כל העמודות שמסתיימות ב־_num_of_diag.\n",
        "\n"
      ],
      "metadata": {
        "id": "GO7mpmjzjK0o"
      }
    },
    {
      "cell_type": "code",
      "source": [
        "df['total_diag_count'] = df[num_of_diag_cols].sum(axis=1)"
      ],
      "metadata": {
        "id": "KFEES_umWvxm"
      },
      "execution_count": null,
      "outputs": []
    },
    {
      "cell_type": "code",
      "source": [
        "sns.barplot(x='Y', y='total_diag_count', data=df)\n",
        "plt.title(\"Total Diagnosis Count by Y\")\n"
      ],
      "metadata": {
        "id": "wbAbuV9JiKrm"
      },
      "execution_count": null,
      "outputs": []
    },
    {
      "cell_type": "code",
      "source": [
        "df.groupby('Y')['total_diag_count'].agg(['mean', 'std', 'median', 'max'])"
      ],
      "metadata": {
        "id": "osJYVGVYiR-v"
      },
      "execution_count": null,
      "outputs": []
    },
    {
      "cell_type": "markdown",
      "source": [
        "נשים חולות (Y=1) מקבלות יותר אבחנות בממוצע.\n",
        "\n",
        "ה־max של Y=1 גבוה מאוד — ייתכן שחולות יותר מורכבות רפואית\n",
        "\n",
        "ה־std גבוה יותר אצל Y=1 → הפיצ'ר גם מבחין וגם משקף עומס קליני"
      ],
      "metadata": {
        "id": "dffvEPfYjdDQ"
      }
    },
    {
      "cell_type": "code",
      "source": [
        "\n",
        "group_0 = df[df['Y'] == 0]['total_diag_count']\n",
        "group_1 = df[df['Y'] == 1]['total_diag_count']\n",
        "stat, p = ttest_ind(group_0, group_1, equal_var=False)\n",
        "print(f\"t-test p-value = {p:.4e}\")\n"
      ],
      "metadata": {
        "id": "065oHIIWjt0c"
      },
      "execution_count": null,
      "outputs": []
    },
    {
      "cell_type": "markdown",
      "source": [
        "הממוצע של הפיצ'ר שונה בין הערכים של Y\n",
        "\n",
        "ממוצע גבוה יותר אצל נשים חולות (Y=1)."
      ],
      "metadata": {
        "id": "UBn27d_vkOpj"
      }
    },
    {
      "cell_type": "markdown",
      "source": [
        "##### days_since_diag_cols"
      ],
      "metadata": {
        "id": "Gj1nVLuagSo6"
      }
    },
    {
      "cell_type": "code",
      "source": [
        "df[days_since_diag_cols].describe().T"
      ],
      "metadata": {
        "id": "QSF546s-h7jm"
      },
      "execution_count": null,
      "outputs": []
    },
    {
      "cell_type": "code",
      "source": [
        "plot_feature_distribution(df, days_since_diag_cols)"
      ],
      "metadata": {
        "id": "ZLioDhF8sSiI"
      },
      "execution_count": null,
      "outputs": []
    },
    {
      "cell_type": "code",
      "source": [
        "violations_4 = []\n",
        "violations_24 = []\n",
        "\n",
        "for col in df.columns:\n",
        "    if col.startswith('4_diag_') and col.endswith('_days_since_last_diag'):\n",
        "        mask = df[col] > 120\n",
        "        if mask.any():\n",
        "            violations_4.append((col, mask.sum()))\n",
        "    elif col.startswith('24_diag_') and col.endswith('_days_since_last_diag'):\n",
        "        mask = df[col] > 730\n",
        "        if mask.any():\n",
        "            violations_24.append((col, mask.sum()))\n",
        "\n",
        "print(\"\\nViolations of rule for 4_diag (>120 days):\")\n",
        "for v in violations_4:\n",
        "    print(f\"{v[0]}: {v[1]} rows\")\n",
        "\n",
        "print(\"\\nViolations of rule for 24_diag (>730 days):\")\n",
        "for v in violations_24:\n",
        "    print(f\"{v[0]}: {v[1]} rows\")\n"
      ],
      "metadata": {
        "id": "Nwmb4gYEucfl"
      },
      "execution_count": null,
      "outputs": []
    },
    {
      "cell_type": "code",
      "source": [
        "df.loc[df['4_diag_94_days_since_last_diag'] > 120, ['4_diag_94_days_since_last_diag','Y']]"
      ],
      "metadata": {
        "id": "a0UUH0160CN8"
      },
      "execution_count": null,
      "outputs": []
    },
    {
      "cell_type": "code",
      "source": [
        "df.loc[df['24_diag_61_days_since_last_diag'] > 730, ['24_diag_61_days_since_last_diag','Y']]"
      ],
      "metadata": {
        "id": "p7w0N3W60IAj"
      },
      "execution_count": null,
      "outputs": []
    },
    {
      "cell_type": "code",
      "source": [
        "\n",
        "df_melted = df[days_since_diag_cols + ['Y']].melt(id_vars='Y')\n",
        "\n",
        "plt.figure(figsize=(12, max(6, len(days_since_diag_cols) * 0.3)))\n",
        "sns.boxplot(x='value', y='variable', hue='Y', data=df_melted, orient='h', showfliers=False)\n",
        "plt.title('Distribution of Days Since Last Diagnosis (by Y)')\n",
        "plt.tight_layout()\n",
        "plt.show()\n"
      ],
      "metadata": {
        "id": "nVWe0JQQ2P7D"
      },
      "execution_count": null,
      "outputs": []
    },
    {
      "cell_type": "code",
      "source": [
        "plot_filtered_correlation_heatmap(df, columns=days_since_diag_cols, threshold=0.8, method='pearson')"
      ],
      "metadata": {
        "id": "VxdT5UwP8lgJ"
      },
      "execution_count": null,
      "outputs": []
    },
    {
      "cell_type": "code",
      "source": [
        "group3.remove('clinical_sheet')"
      ],
      "metadata": {
        "id": "F4RLZft7Hf40"
      },
      "execution_count": null,
      "outputs": []
    },
    {
      "cell_type": "code",
      "source": [
        "group3"
      ],
      "metadata": {
        "id": "OrIEQAlKPorQ"
      },
      "execution_count": null,
      "outputs": []
    },
    {
      "cell_type": "code",
      "source": [],
      "metadata": {
        "id": "ehgN3yvGPnvu"
      },
      "execution_count": null,
      "outputs": []
    },
    {
      "cell_type": "markdown",
      "source": [
        "### EDA"
      ],
      "metadata": {
        "id": "uo58t6aWPP3a"
      }
    },
    {
      "cell_type": "code",
      "source": [
        "def add_severity_and_source(df):\n",
        "    # Severity clearly defined medically\n",
        "    severity_conditions = [\n",
        "        ('eclampsia_sum', 'Eclampsia'),\n",
        "        ('preeclampsia_sum', 'Preeclampsia'),\n",
        "        ('labs_sum', 'Lab-based diagnosis'),\n",
        "        ('essential_hypertension_sum', 'Essential Hypertension'),\n",
        "        ('pregnancy_hypertension_sum', 'Pregnancy Hypertension')\n",
        "    ]\n",
        "\n",
        "    df['severity_level'] = 'No Diagnosis'\n",
        "    for col, level in severity_conditions:\n",
        "        df.loc[(df[col] == 1) & (df['severity_level'] == 'No Diagnosis'), 'severity_level'] = level\n",
        "\n",
        "    # Source of diagnosis clearly separated\n",
        "    source_conditions = [\n",
        "        ('match_pdf_after', 'Hospital Document (PDF)'),\n",
        "        ('match_rasham_after', 'Medical Registry (Rasham)'),\n",
        "        ('match_aspirin_after', 'Aspirin prescription'),\n",
        "        ('match_diag_141', 'Diagnosis Registry')\n",
        "    ]\n",
        "\n",
        "    df['diagnosis_source'] = 'No Diagnosis'\n",
        "    for col, source in source_conditions:\n",
        "        df.loc[(df[col] == 1) & (df['diagnosis_source'] == 'No Diagnosis'), 'diagnosis_source'] = source\n",
        "\n",
        "    return df\n",
        "\n",
        "\n",
        "\n",
        "# severity_order = [\n",
        "#         'Eclampsia',\n",
        "#         'Preeclampsia',\n",
        "#         'Lab-based diagnosis',\n",
        "#         'Essential Hypertension',\n",
        "#         'Pregnancy Hypertension',\n",
        "#         'No Diagnosis'\n",
        "# ]\n",
        "\n",
        "df = add_severity_and_source(df)\n"
      ],
      "metadata": {
        "id": "NoXZd608Rzek"
      },
      "execution_count": null,
      "outputs": []
    },
    {
      "cell_type": "code",
      "source": [
        "'match_rasham_after',\n",
        " 'match_aspirin_after',\n",
        " 'match_pdf_after',\n",
        " 'essential_hypertension_sum',\n",
        " 'pregnancy_hypertension_sum',\n",
        " 'preeclampsia_sum',\n",
        " 'eclampsia_sum',\n",
        " 'labs_sum'"
      ],
      "metadata": {
        "id": "k5D_hNYmKOKe"
      },
      "execution_count": null,
      "outputs": []
    },
    {
      "cell_type": "code",
      "source": [
        "# 1. Validate diagnosis_source matches Y perfectly\n",
        "no_source_but_positive_Y = df[(df['diagnosis_source'] == 'No Diagnosis') & (df['Y'] != 0)]\n",
        "source_but_negative_Y = df[(df['diagnosis_source'] != 'No Diagnosis') & (df['Y'] != 1)]\n",
        "\n",
        "print(f\"No source but Y=1 cases: {len(no_source_but_positive_Y)} (should be 0)\")\n",
        "print(f\"Has source but Y=0 cases: {len(source_but_negative_Y)} (should be 0)\")\n",
        "\n",
        "# 2. Validate severity_level matches match_diag_141 and Y correctly\n",
        "no_severity_but_diag141 = df[(df['severity_level'] == 'No Diagnosis') & (df['match_diag_141'] != 0)]\n",
        "severity_but_no_diag141 = df[(df['severity_level'] != 'No Diagnosis') & (df['match_diag_141'] != 1)]\n",
        "severity_but_negative_Y = df[(df['severity_level'] != 'No Diagnosis') & (df['Y'] != 1)]\n",
        "\n",
        "print(f\"No severity but match_diag_141=1 cases: {len(no_severity_but_diag141)} (should be 0)\")\n",
        "print(f\"Has severity but match_diag_141=0 cases: {len(severity_but_no_diag141)} (should be 0)\")\n",
        "print(f\"Has severity but Y=0 cases: {len(severity_but_negative_Y)} (should be 0)\")\n"
      ],
      "metadata": {
        "id": "Nt56b9yupCi2"
      },
      "execution_count": null,
      "outputs": []
    },
    {
      "cell_type": "code",
      "source": [
        "def plot_distribution(df,y_col):\n",
        "    plt.figure(figsize=(10,6))\n",
        "    sns.countplot(\n",
        "        y=y_col,\n",
        "        data=df,\n",
        "        order=df[y_col].value_counts().index,\n",
        "        palette='viridis'\n",
        "    )\n",
        "    plt.title(f'Distribution of {y_col}', fontsize=16)\n",
        "    plt.xlabel('Number of Patients')\n",
        "    plt.ylabel(y_col)\n",
        "    plt.tight_layout()\n",
        "    plt.show()\n",
        "\n",
        "\n",
        "# plot pie chart\n",
        "def plot_pie_chart(df, y_col, no_zeros = False):\n",
        "  plt.figure(figsize=(8, 8))\n",
        "  counts = counts = df[y_col].value_counts()\n",
        "  plt.pie(counts, labels=counts.index, autopct='%1.1f%%', startangle=90)\n",
        "  title = f'{y_col} Distribution'\n",
        "  if no_zeros:\n",
        "    title += ' (non-zero cases)'\n",
        "  plt.title(title)\n",
        "  plt.tight_layout()\n",
        "  plt.show()"
      ],
      "metadata": {
        "id": "_4xy2iShVEIs"
      },
      "execution_count": null,
      "outputs": []
    },
    {
      "cell_type": "code",
      "source": [
        "plot_pie_chart(df, 'Y')"
      ],
      "metadata": {
        "id": "gcMZX1gWTNKO"
      },
      "execution_count": null,
      "outputs": []
    },
    {
      "cell_type": "markdown",
      "source": [
        "#### Severity Level Distribution"
      ],
      "metadata": {
        "id": "k2GUEztYS0C9"
      }
    },
    {
      "cell_type": "code",
      "source": [
        "plot_distribution(df,'severity_level')"
      ],
      "metadata": {
        "id": "5uJWbBS-U8an"
      },
      "execution_count": null,
      "outputs": []
    },
    {
      "cell_type": "code",
      "source": [
        "# filter out rows with 'No Diagnosis'\n",
        "severity_filtered = df[df['severity_level'] != 'No Diagnosis']\n",
        "\n",
        "\n",
        "plot_distribution(severity_filtered, \"severity_level\")\n"
      ],
      "metadata": {
        "id": "nxoqZFiKVz2s"
      },
      "execution_count": null,
      "outputs": []
    },
    {
      "cell_type": "code",
      "source": [
        "plot_pie_chart(severity_filtered, y_col='severity_level', no_zeros=True)"
      ],
      "metadata": {
        "id": "EgM9AIqKS8fa"
      },
      "execution_count": null,
      "outputs": []
    },
    {
      "cell_type": "code",
      "source": [
        "df['diagnosis_source'].unique()"
      ],
      "metadata": {
        "id": "zdJQG7SLjDdX"
      },
      "execution_count": null,
      "outputs": []
    },
    {
      "cell_type": "code",
      "source": [
        "\n",
        "# filter out rows with 'No Diagnosis'\n",
        "diag_filtered = df[df['diagnosis_source'] != 'No Diagnosis']\n",
        "\n",
        "plot_distribution(diag_filtered, y_col=\"diagnosis_source\")\n"
      ],
      "metadata": {
        "id": "-B-9P3B3jCiK"
      },
      "execution_count": null,
      "outputs": []
    },
    {
      "cell_type": "code",
      "source": [
        "plot_pie_chart(severity_filtered, y_col='severity_level', no_zeros=True)"
      ],
      "metadata": {
        "id": "EJA9zd4Dlbqo"
      },
      "execution_count": null,
      "outputs": []
    },
    {
      "cell_type": "markdown",
      "source": [
        "#### Demogarphy distribution"
      ],
      "metadata": {
        "id": "2xCDZOW-eigj"
      }
    },
    {
      "cell_type": "code",
      "source": [
        "def plot_boxplot_distribution(target_col):\n",
        "  for col in ['demog_customer_age', 'demog_capitationcoefficient']:\n",
        "    plt.figure(figsize=(8,4))\n",
        "    sns.boxplot(x=target_col, y=col, data=df, palette='coolwarm')\n",
        "    plt.title(f'{col} Distribution by {target_col}', fontsize=16)\n",
        "    plt.xticks(rotation=45)\n",
        "    plt.xlabel(target_col)\n",
        "    plt.ylabel(col)\n",
        "    plt.tight_layout()\n",
        "    plt.show()\n"
      ],
      "metadata": {
        "id": "GfRxc1ggexG8"
      },
      "execution_count": null,
      "outputs": []
    },
    {
      "cell_type": "markdown",
      "source": [
        "##### Demogarphy distribution by Y (Boxplot)"
      ],
      "metadata": {
        "id": "T-WqbVwjer3x"
      }
    },
    {
      "cell_type": "code",
      "source": [
        "plot_boxplot_distribution('Y')"
      ],
      "metadata": {
        "id": "glIXDGRcfQms"
      },
      "execution_count": null,
      "outputs": []
    },
    {
      "cell_type": "markdown",
      "source": [
        "##### Demogarphy distribution by Severity Level (Boxplot)"
      ],
      "metadata": {
        "id": "DZTkAUOxUWEZ"
      }
    },
    {
      "cell_type": "code",
      "source": [
        "plot_boxplot_distribution('severity_level')"
      ],
      "metadata": {
        "id": "1phktB6qUVsM"
      },
      "execution_count": null,
      "outputs": []
    },
    {
      "cell_type": "code",
      "source": [
        "plot_boxplot_distribution('diagnosis_source')"
      ],
      "metadata": {
        "id": "JOfDWdGglk0f"
      },
      "execution_count": null,
      "outputs": []
    },
    {
      "cell_type": "code",
      "source": [
        "def smoking_status_by_target(target_col):\n",
        "  smoking_pivot = pd.crosstab(df[target_col], df['smoking_is_smoker'], normalize='index')\n",
        "  # smoking_pivot = smoking_pivot.reindex(severity_order)\n",
        "\n",
        "  smoking_pivot.plot(kind='bar', stacked=True, figsize=(10,6), colormap='Set2')\n",
        "  plt.title(f'Smoking Status by {target_col}', fontsize=16)\n",
        "  plt.xlabel(target_col)\n",
        "  plt.ylabel('Percentage')\n",
        "  plt.legend(title='Smoker Status', bbox_to_anchor=(1,1))\n",
        "  plt.xticks(rotation=45)\n",
        "  plt.tight_layout()\n",
        "  plt.show()"
      ],
      "metadata": {
        "id": "qmsrtcbnl1yM"
      },
      "execution_count": null,
      "outputs": []
    },
    {
      "cell_type": "code",
      "source": [
        "smoking_status_by_target('Y')"
      ],
      "metadata": {
        "id": "Pndj7uOmmDTY"
      },
      "execution_count": null,
      "outputs": []
    },
    {
      "cell_type": "code",
      "source": [
        "smoking_status_by_target('severity_level')"
      ],
      "metadata": {
        "id": "FDU8KM1uUVu4"
      },
      "execution_count": null,
      "outputs": []
    },
    {
      "cell_type": "code",
      "source": [
        "smoking_status_by_target('diagnosis_source')"
      ],
      "metadata": {
        "id": "QIQwE3vOmRVS"
      },
      "execution_count": null,
      "outputs": []
    },
    {
      "cell_type": "code",
      "source": [
        "def Blood_Pressure_By_target(target_col):\n",
        "  bp_means = df.groupby(target_col)[[\n",
        "      'measure_blood_pressure_sys_mean_val',\n",
        "      'measure_blood_pressure_dias_mean_val'\n",
        "  ]].mean()\n",
        "\n",
        "  plt.figure(figsize=(11,5))\n",
        "  sns.heatmap(bp_means, annot=True, fmt=\".1f\", cmap='YlGnBu')\n",
        "\n",
        "  plt.title(f'Mean Blood Pressure by {target_col}', fontsize=12)\n",
        "  plt.xlabel('Blood Pressure Measure', fontsize=10)\n",
        "  plt.ylabel(target_col, fontsize=10)\n",
        "\n",
        "  plt.xticks(rotation=30, ha='right')\n",
        "\n",
        "  plt.tight_layout()\n",
        "  plt.show()"
      ],
      "metadata": {
        "id": "pmeRrJ1Kg0KV"
      },
      "execution_count": null,
      "outputs": []
    },
    {
      "cell_type": "code",
      "source": [
        "Blood_Pressure_By_target('Y')"
      ],
      "metadata": {
        "id": "tvOBYlZ2hoeT"
      },
      "execution_count": null,
      "outputs": []
    },
    {
      "cell_type": "code",
      "source": [
        "Blood_Pressure_By_target('severity_level')"
      ],
      "metadata": {
        "id": "ZjCRwY3NR5mn"
      },
      "execution_count": null,
      "outputs": []
    },
    {
      "cell_type": "code",
      "source": [
        "Blood_Pressure_By_target('diagnosis_source')"
      ],
      "metadata": {
        "id": "Ix8awWFXmZMM"
      },
      "execution_count": null,
      "outputs": []
    },
    {
      "cell_type": "markdown",
      "source": [
        "fmt=\".1f\" מציג את המספרים כ־120.5 במקום 1.2e+02"
      ],
      "metadata": {
        "id": "lroTmSYvazAJ"
      }
    },
    {
      "cell_type": "code",
      "source": [
        "def labs_by_target(target_col, target_binary=0):\n",
        "  lab_cols = [col for col in df.columns if col.startswith('lab_')]\n",
        "  col_binary = (df[target_col] != target_binary).astype(int)\n",
        "\n",
        "  correlations = {col: pointbiserialr(df[col].fillna(0), col_binary)[0] for col in lab_cols}\n",
        "  top_labs = sorted(correlations, key=lambda x: abs(correlations[x]), reverse=True)[:5]\n",
        "\n",
        "  for col in top_labs:\n",
        "      plt.figure(figsize=(10, 6))\n",
        "      sns.boxplot(x=target_col, y=col, data=df, palette='Spectral')\n",
        "      plt.title(f'{col} by {target_col}', fontsize=16)\n",
        "      plt.xticks(rotation=45)\n",
        "      plt.tight_layout()\n",
        "      plt.show()\n",
        ""
      ],
      "metadata": {
        "id": "isrpSGAJnZJS"
      },
      "execution_count": null,
      "outputs": []
    },
    {
      "cell_type": "code",
      "source": [
        "labs_by_target('Y')"
      ],
      "metadata": {
        "id": "OdEalMsInZvS"
      },
      "execution_count": null,
      "outputs": []
    },
    {
      "cell_type": "code",
      "source": [
        "\n",
        "labs_by_target('severity_level', target_binary='No Diagnosis')"
      ],
      "metadata": {
        "id": "6GbR5ua8h_0d"
      },
      "execution_count": null,
      "outputs": []
    },
    {
      "cell_type": "code",
      "source": [
        "df['diagnosis_source'].unique()"
      ],
      "metadata": {
        "id": "g7d3YUe_nmoi"
      },
      "execution_count": null,
      "outputs": []
    },
    {
      "cell_type": "code",
      "source": [
        "labs_by_target('diagnosis_source', \"No Diagnosis\")"
      ],
      "metadata": {
        "id": "VfTZon8OnW5o"
      },
      "execution_count": null,
      "outputs": []
    },
    {
      "cell_type": "code",
      "source": [
        "lab_cols = [col for col in df.columns if col.startswith('lab_')]\n",
        "severity_binary = (df['severity_level'] != 'No Diagnosis').astype(int)\n",
        "\n",
        "correlations = {col: pointbiserialr(df[col].fillna(0), severity_binary)[0] for col in lab_cols}\n",
        "top_labs = sorted(correlations, reverse=True)[:5]\n",
        "\n",
        "for col in top_labs:\n",
        "    plt.figure(figsize=(10,6))\n",
        "    sns.boxplot(x='severity_level', y=col, data=df, palette='Spectral')\n",
        "    plt.title(f'{col} by Severity Level', fontsize=16)\n",
        "    plt.xticks(rotation=45)\n",
        "    plt.tight_layout()\n",
        "    plt.show()\n"
      ],
      "metadata": {
        "id": "KAz9ZTzyav5G"
      },
      "execution_count": null,
      "outputs": []
    },
    {
      "cell_type": "markdown",
      "source": [],
      "metadata": {
        "id": "GV5J8oSEiQnO"
      }
    },
    {
      "cell_type": "code",
      "source": [
        "import pandas as pd\n",
        "import matplotlib.pyplot as plt\n",
        "import seaborn as sns\n",
        "\n",
        "sns.set(style=\"whitegrid\")\n",
        "\n",
        "# 1. התפלגות Severity Level\n",
        "plt.figure(figsize=(10,6))\n",
        "sns.countplot(y='severity_level', data=df, order=df['severity_level'].value_counts().index, palette='viridis')\n",
        "plt.title('Distribution of Severity Levels', fontsize=16)\n",
        "plt.xlabel('Number of Patients')\n",
        "plt.ylabel('Severity Level')\n",
        "plt.tight_layout()\n",
        "plt.show()\n",
        "\n",
        "# 2. התפלגות Diagnosis Source\n",
        "plt.figure(figsize=(10,6))\n",
        "sns.countplot(y='diagnosis_source', data=df, order=df['diagnosis_source'].value_counts().index, palette='mako')\n",
        "plt.title('Distribution of Diagnosis Sources', fontsize=16)\n",
        "plt.xlabel('Number of Patients')\n",
        "plt.ylabel('Diagnosis Source')\n",
        "plt.tight_layout()\n",
        "plt.show()\n",
        "\n",
        "# 3. התפלגות אבחנה כללית Y\n",
        "plt.figure(figsize=(6,4))\n",
        "sns.countplot(x='Y', data=df, palette='Set2')\n",
        "plt.title('Distribution of General Diagnosis (Y)', fontsize=16)\n",
        "plt.xlabel('General Diagnosis (Y)')\n",
        "plt.ylabel('Number of Patients')\n",
        "plt.tight_layout()\n",
        "plt.show()\n",
        "\n",
        "# משתנים רציפים להשוואה (דוגמאות חשובות)\n",
        "continuous_features = [\n",
        "    'demog_customer_age',\n",
        "    'measure_blood_pressure_sys_mean_val',\n",
        "    'measure_blood_pressure_dias_mean_val'\n",
        "]\n",
        "\n",
        "# 4. השוואת משתנים רציפים לפי Severity Level\n",
        "for col in continuous_features:\n",
        "    plt.figure(figsize=(10,6))\n",
        "    sns.boxplot(x='severity_level', y=col, data=df, palette='coolwarm')\n",
        "    plt.title(f'{col} by Severity Level', fontsize=16)\n",
        "    plt.xticks(rotation=45)\n",
        "    plt.tight_layout()\n",
        "    plt.show()\n",
        "\n",
        "# 5. השוואת משתנים רציפים לפי Diagnosis Source\n",
        "diagnosis_source_features = [\n",
        "    'demog_customer_age',\n",
        "    'measure_blood_pressure_sys_count'\n",
        "]\n",
        "\n",
        "for col in diagnosis_source_features:\n",
        "    plt.figure(figsize=(10,6))\n",
        "    sns.boxplot(x='diagnosis_source', y=col, data=df, palette='pastel')\n",
        "    plt.title(f'{col} by Diagnosis Source', fontsize=16)\n",
        "    plt.xticks(rotation=45)\n",
        "    plt.tight_layout()\n",
        "    plt.show()\n",
        "\n",
        "# 6. השוואת משתנים רציפים לפי אבחנה כללית (Y)\n",
        "for col in continuous_features:\n",
        "    plt.figure(figsize=(8,5))\n",
        "    sns.boxplot(x='Y', y=col, data=df, palette='Accent')\n",
        "    plt.title(f'{col} by General Diagnosis (Y)', fontsize=16)\n",
        "    plt.tight_layout()\n",
        "    plt.show()\n",
        "\n",
        "# 7. Smoking vs Severity Level\n",
        "smoking_pivot = pd.crosstab(df['severity_level'], df['smoking_is_smoker'], normalize='index')\n",
        "smoking_pivot.plot(kind='bar', stacked=True, figsize=(10,6), colormap='Set3')\n",
        "plt.title('Smoking Status by Severity Level', fontsize=16)\n",
        "plt.xlabel('Severity Level')\n",
        "plt.ylabel('Percentage')\n",
        "plt.xticks(rotation=45)\n",
        "plt.legend(title='Smoker Status', bbox_to_anchor=(1,1))\n",
        "plt.tight_layout()\n",
        "plt.show()\n",
        "\n",
        "# 8. Smoking vs Y\n",
        "smoking_pivot_y = pd.crosstab(df['Y'], df['smoking_is_smoker'], normalize='index')\n",
        "smoking_pivot_y.plot(kind='bar', stacked=True, figsize=(6,4), colormap='Set3')\n",
        "plt.title('Smoking Status by General Diagnosis (Y)', fontsize=16)\n",
        "plt.xlabel('General Diagnosis (Y)')\n",
        "plt.ylabel('Percentage')\n",
        "plt.xticks(rotation=0)\n",
        "plt.legend(title='Smoker Status', bbox_to_anchor=(1,1))\n",
        "plt.tight_layout()\n",
        "plt.show()\n",
        "\n",
        "# 9. Heatmap מקור אבחנה מול חומרה (Crosstab)\n",
        "severity_source_crosstab = pd.crosstab(df['diagnosis_source'], df['severity_level'], normalize='index')\n",
        "\n",
        "plt.figure(figsize=(10,7))\n",
        "sns.heatmap(severity_source_crosstab, annot=True, cmap='coolwarm')\n",
        "plt.title('Heatmap of Diagnosis Source vs Severity Level', fontsize=16)\n",
        "plt.xlabel('Severity Level')\n",
        "plt.ylabel('Diagnosis Source')\n",
        "plt.tight_layout()\n",
        "plt.show()\n"
      ],
      "metadata": {
        "id": "YqRA3YOaR5pw"
      },
      "execution_count": null,
      "outputs": []
    },
    {
      "cell_type": "markdown",
      "source": [
        "### NLP - Clinical Sheet"
      ],
      "metadata": {
        "id": "JP2DTNpr9ak9"
      }
    },
    {
      "cell_type": "code",
      "source": [
        "df[\"clinical_sheet\"].isna().sum()"
      ],
      "metadata": {
        "id": "YQGfO88MF2fn"
      },
      "execution_count": null,
      "outputs": []
    },
    {
      "cell_type": "code",
      "source": [
        "df['clinical_length'] = df['clinical_sheet'].str.len()\n",
        "df.groupby(df[indicator_cols].sum(axis=1) > 0)['clinical_length'].mean()\n"
      ],
      "metadata": {
        "id": "K3-1Cwl9Qv9H"
      },
      "execution_count": null,
      "outputs": []
    },
    {
      "cell_type": "code",
      "source": [
        "def print_cleaned_examples(df, label_value,clinical_col=\"clinical_sheet\", n=3):\n",
        "    examples = df[df['Y'] == label_value][clinical_col].dropna().sample(n, random_state=42)\n",
        "    print(f\"\\n=== {n} Examples where Y = {label_value} ===\\n\")\n",
        "    for i, text in enumerate(examples, start=1):\n",
        "        print(f\"--- Example {i} ---\\n{text.strip()}\\n\")\n",
        "\n",
        "print_cleaned_examples(df, label_value=1, n=3)\n",
        "print_cleaned_examples(df, label_value=0, n=3)\n"
      ],
      "metadata": {
        "id": "9aUnSHs89iY2"
      },
      "execution_count": null,
      "outputs": []
    },
    {
      "cell_type": "markdown",
      "source": [
        "##### TF-IDF"
      ],
      "metadata": {
        "id": "WeakP80_od7e"
      }
    },
    {
      "cell_type": "code",
      "source": [
        "# Compute TF-IDF\n",
        "vectorizer = TfidfVectorizer(use_idf=True, min_df=5, sublinear_tf=True)\n",
        "vec_sparse = vectorizer.fit_transform(df['clinical_sheet'])\n",
        "vec_df = pd.DataFrame(vec_sparse.todense(), columns=vectorizer.get_feature_names_out())\n",
        "\n",
        "vec_df.T"
      ],
      "metadata": {
        "id": "4llk-Z2hEMVe"
      },
      "execution_count": null,
      "outputs": []
    },
    {
      "cell_type": "code",
      "source": [
        "chi2(vec_df[['כספית']], df['Y']==1)\n",
        "\n",
        "# Right value is the p-value:\n",
        "#  a very low p-value indicates that the word \"כספית\" (\"Mercury\") is significantly correlated with cases labeled as \"sick\" (Y=1),\n",
        "#  distinguishing them clearly from non-sick cases.\n",
        "\n",
        "\n"
      ],
      "metadata": {
        "id": "fW3T-xjfzweS"
      },
      "execution_count": null,
      "outputs": []
    },
    {
      "cell_type": "code",
      "source": [
        "chi2(vec_df[[\"nulliparity\"]],df[\"Y\"]==1)"
      ],
      "metadata": {
        "id": "BLsgc7Qazwkn"
      },
      "execution_count": null,
      "outputs": []
    },
    {
      "cell_type": "code",
      "source": [
        "chi2(vec_df[[\"דם\"]],df[\"Y\"]==1)"
      ],
      "metadata": {
        "id": "xgg2IvyF7XiG"
      },
      "execution_count": null,
      "outputs": []
    },
    {
      "cell_type": "code",
      "source": [
        "# Reset the index of df\n",
        "df_reset = df.reset_index(drop=True)\n",
        "\n",
        "# Chi2 scores and p-values\n",
        "chi2_scores, p_values = chi2(vec_df, df_reset['Y'])\n",
        "\n",
        "# Create DataFrame with results\n",
        "chi2_df = pd.DataFrame({\n",
        "    'word': vectorizer.get_feature_names_out(),\n",
        "    'chi2_score': chi2_scores,\n",
        "    'p_value': p_values,\n",
        "})\n",
        "\n",
        "chi2_df"
      ],
      "metadata": {
        "id": "Q_m9Ru8jEle5"
      },
      "execution_count": null,
      "outputs": []
    },
    {
      "cell_type": "code",
      "source": [
        "\n",
        "# Add average TF-IDF per class\n",
        "chi2_df['tfidf_mean_Y1'] = vec_df[df_reset['Y'] == 1].mean(axis=0).values\n",
        "chi2_df['tfidf_mean_Y0'] = vec_df[df_reset['Y'] == 0].mean(axis=0).values\n",
        "\n",
        "# Clearly assign each word to the class with higher mean TF-IDF\n",
        "chi2_df['class'] = np.where(chi2_df['tfidf_mean_Y1'] > chi2_df['tfidf_mean_Y0'], 1, 0)\n",
        "\n"
      ],
      "metadata": {
        "id": "2KV2t7QUEs1C"
      },
      "execution_count": null,
      "outputs": []
    },
    {
      "cell_type": "code",
      "source": [
        "# Sort words by chi2_score for each class separately\n",
        "top_words_Y1 = chi2_df[chi2_df['class'] == 1].sort_values(by='chi2_score', ascending=False).head(20)\n",
        "top_words_Y0 = chi2_df[chi2_df['class'] == 0].sort_values(by='chi2_score', ascending=False).head(20)\n",
        "\n",
        "# Display neatly\n",
        "print(\"Top words strongly associated with Y=1:\")\n",
        "display(top_words_Y1[['word', 'chi2_score', 'tfidf_mean_Y1', 'tfidf_mean_Y0']])\n",
        "\n",
        "print(\"\\nTop words strongly associated with Y=0:\")\n",
        "display(top_words_Y0[['word', 'chi2_score', 'tfidf_mean_Y1', 'tfidf_mean_Y0']])"
      ],
      "metadata": {
        "id": "uUwtijlhGSem"
      },
      "execution_count": null,
      "outputs": []
    },
    {
      "cell_type": "code",
      "source": [
        "\n",
        "top_words_Y1 = chi2_df[chi2_df['class'] == 1].sort_values('chi2_score', ascending=False)['word'].reset_index(drop=True)\n",
        "top_words_Y0 = chi2_df[chi2_df['class'] == 0].sort_values('chi2_score', ascending=False)['word'].reset_index(drop=True)\n",
        "\n",
        "\n",
        "top_words_df = pd.DataFrame({\n",
        "    'Y=0': top_words_Y0,\n",
        "    'Y=1': top_words_Y1\n",
        "})\n",
        "\n",
        "display(top_words_df.head(20))\n"
      ],
      "metadata": {
        "id": "mjF4hHLnEs4t"
      },
      "execution_count": null,
      "outputs": []
    },
    {
      "cell_type": "code",
      "source": [
        "def plot_top_words_chi2(vec_df, Y, class_label, font_path='Alef-Regular.ttf', top_n=20):\n",
        "    \"\"\"\n",
        "    Plot top distinguishing words for a given binary class using Chi-Squared statistics.\n",
        "\n",
        "    Parameters:\n",
        "    vec_df (DataFrame): TF-IDF vectorized words as columns.\n",
        "    Y (Series): Binary target variable indicating class labels.\n",
        "    class_label (int): The class label to distinguish (0 or 1).\n",
        "    font_path (str): Path to font supporting Hebrew characters.\n",
        "    top_n (int): Number of top words to display.\n",
        "    \"\"\"\n",
        "\n",
        "    # Reset index of Y to match vec_df\n",
        "    Y = Y.reset_index(drop=True)\n",
        "\n",
        "    # Compute average TF-IDF per class\n",
        "    tfidf_Y1_mean = vec_df[Y == 1].mean(axis=0)\n",
        "    tfidf_Y0_mean = vec_df[Y == 0].mean(axis=0)\n",
        "\n",
        "    # Ensure words are correctly associated to the selected class\n",
        "    if class_label == 1:\n",
        "        selected_words = tfidf_Y1_mean[tfidf_Y1_mean > tfidf_Y0_mean].index\n",
        "    else:\n",
        "        selected_words = tfidf_Y0_mean[tfidf_Y0_mean > tfidf_Y1_mean].index\n",
        "\n",
        "    # Filter vec_df for selected words\n",
        "    vec_df_selected = vec_df[selected_words]\n",
        "\n",
        "    # Compute Chi2 for selected words\n",
        "    chi_scores, p_values = chi2(vec_df_selected, Y == class_label)\n",
        "\n",
        "    # Create DataFrame for visualization\n",
        "    chi2_df = pd.DataFrame({\n",
        "        'Word': selected_words,\n",
        "        'Chi2': chi_scores,\n",
        "        'P-value': p_values\n",
        "    }).sort_values('Chi2', ascending=False).head(top_n)\n",
        "\n",
        "    # Reverse Hebrew text ONLY for barplot display\n",
        "    chi2_df['Word_display'] = chi2_df['Word'].apply(get_display)\n",
        "\n",
        "    # Plot bar chart with reversed Hebrew text\n",
        "    plt.figure(figsize=(10, 8))\n",
        "    sns.barplot(x='Chi2', y='Word_display', data=chi2_df, palette='coolwarm')\n",
        "    plt.title(f\"Top {top_n} Words Associated with Class (Y={class_label}) by Chi-Squared\", fontsize=16)\n",
        "    plt.xlabel(\"Chi-Squared Score\")\n",
        "    plt.ylabel(\"Word\")\n",
        "    plt.tight_layout()\n",
        "    plt.show()\n",
        "    print(\"\\n*2\")\n",
        "\n",
        "    # Prepare word frequencies WITHOUT reversing for Word Cloud\n",
        "    word_freq = dict(zip(chi2_df['Word'], chi2_df['Chi2']))\n",
        "\n",
        "    # Generate Word Cloud\n",
        "    wc = WordCloud(\n",
        "        width=800,\n",
        "        height=600,\n",
        "        background_color='white',\n",
        "        colormap='viridis',\n",
        "        font_path=font_path\n",
        "    ).generate_from_frequencies(word_freq)\n",
        "\n",
        "    plt.figure(figsize=(12, 8))\n",
        "    plt.imshow(wc, interpolation=\"bilinear\")\n",
        "    plt.axis('off')\n",
        "    plt.title(f\"Word Cloud for Class (Y={class_label}) - Chi-Squared\", fontsize=16)\n",
        "    plt.show()\n"
      ],
      "metadata": {
        "id": "O3wIcKsL95fW"
      },
      "execution_count": null,
      "outputs": []
    },
    {
      "cell_type": "code",
      "source": [
        "plot_top_words_chi2(vec_df, df[\"Y\"], class_label=1)"
      ],
      "metadata": {
        "id": "9bNDtjh_-G9r"
      },
      "execution_count": null,
      "outputs": []
    },
    {
      "cell_type": "code",
      "source": [
        "plot_top_words_chi2(vec_df, df[\"Y\"], class_label=0)"
      ],
      "metadata": {
        "id": "JtQ7UfHqHX54"
      },
      "execution_count": null,
      "outputs": []
    },
    {
      "cell_type": "code",
      "source": [
        "selected_words = chi2_df[chi2_df['chi2_score'] > 25]['word'].tolist()"
      ],
      "metadata": {
        "id": "4RtKgI4aHX-L"
      },
      "execution_count": null,
      "outputs": []
    },
    {
      "cell_type": "code",
      "source": [
        "selected_words"
      ],
      "metadata": {
        "id": "FTxlC36mHa90"
      },
      "execution_count": null,
      "outputs": []
    },
    {
      "cell_type": "markdown",
      "source": [],
      "metadata": {
        "id": "7fsQg8hxJtMv"
      }
    },
    {
      "cell_type": "code",
      "source": [
        "\n",
        "for word in selected_words:\n",
        "    df[f'word_{word}'] = df['clinical_sheet'].str.contains(word).astype(int)\n"
      ],
      "metadata": {
        "id": "hRw42wLxH6Ba"
      },
      "execution_count": null,
      "outputs": []
    },
    {
      "cell_type": "code",
      "source": [
        "\n",
        "\n",
        "# Select only the word columns\n",
        "word_cols = [col for col in df.columns if col.startswith('word_')]\n",
        "\n",
        "# Calculate point-biserial correlation clearly and professionally\n",
        "correlations = []\n",
        "for col in word_cols:\n",
        "    corr, p_value = pointbiserialr(df[col], df['Y'])\n",
        "    correlations.append({'word': col, 'correlation_with_Y': corr, 'p_value': p_value})\n",
        "\n",
        "# Create a clear summary DataFrame and sort it by correlation\n",
        "correlation_df = pd.DataFrame(correlations).sort_values(by='correlation_with_Y', ascending=False)\n",
        "\n",
        "# Display the sorted DataFrame\n",
        "display(correlation_df.head(20))\n"
      ],
      "metadata": {
        "id": "vSdKX224H71j"
      },
      "execution_count": null,
      "outputs": []
    },
    {
      "cell_type": "code",
      "source": [
        "# Top 20 correlated words\n",
        "top_corr_df = correlation_df\n",
        "\n",
        "# Reverse Hebrew text if necessary (assuming Hebrew words)\n",
        "top_corr_df['word_display'] = top_corr_df['word'].apply(get_display)\n",
        "\n",
        "# Plot horizontal bar plot clearly showing correlations\n",
        "plt.figure(figsize=(14, 10))\n",
        "sns.barplot(\n",
        "    x='correlation_with_Y',\n",
        "    y='word_display',\n",
        "    data=top_corr_df,\n",
        "    palette='coolwarm',\n",
        "    orient='h'\n",
        ")\n",
        "plt.xlabel('Correlation with Y', fontsize=14)\n",
        "plt.ylabel('Word', fontsize=14)\n",
        "plt.title('Top 20 Words Correlated with Y', fontsize=16)\n",
        "plt.axvline(0, color='gray', linestyle='--')  # Clearly mark zero correlation\n",
        "plt.tight_layout()\n",
        "plt.show()\n"
      ],
      "metadata": {
        "id": "cu0O3yNyKkZG"
      },
      "execution_count": null,
      "outputs": []
    },
    {
      "cell_type": "code",
      "source": [],
      "metadata": {
        "id": "a9IxdSwuH75-"
      },
      "execution_count": null,
      "outputs": []
    },
    {
      "cell_type": "code",
      "source": [],
      "metadata": {
        "id": "BpGT7JpuH7-d"
      },
      "execution_count": null,
      "outputs": []
    },
    {
      "cell_type": "code",
      "source": [
        "def extract_last_clinical_note(df, clinical_col=\"clinical_sheet\"):\n",
        "\n",
        "  df[clinical_col].split()"
      ],
      "metadata": {
        "id": "Iu7D4xx7H8DV"
      },
      "execution_count": null,
      "outputs": []
    },
    {
      "cell_type": "markdown",
      "source": [
        "##### Embeddings"
      ],
      "metadata": {
        "id": "kyqBC8i1RWFl"
      }
    },
    {
      "cell_type": "code",
      "source": [
        "\n",
        "\n",
        "def extract_last_week_paragraph(text):\n",
        "    \"\"\"\n",
        "    Extract the last paragraph explicitly starting with 'שבוע'.\n",
        "    Returns entire text as fallback if not found.\n",
        "\n",
        "    Parameters:\n",
        "    text (str): Clinical description text.\n",
        "\n",
        "    Returns:\n",
        "    str: Last relevant paragraph or whole text if none found.\n",
        "    \"\"\"\n",
        "    splits = re.split(r'(?=^\\s*שבוע\\s*\\d+)', text, flags=re.MULTILINE)\n",
        "    valid_splits = [split.strip() for split in splits if split.strip()]\n",
        "    return valid_splits[-1] if valid_splits else text.strip()\n",
        "\n",
        "df['last_week_paragraph'] = df['clinical_sheet'].apply(extract_last_week_paragraph)\n"
      ],
      "metadata": {
        "id": "TSI-dXtbU7k1"
      },
      "execution_count": null,
      "outputs": []
    },
    {
      "cell_type": "code",
      "source": [
        "def print_cleaned_examples(df, label_value,clinical_col=\"clinical_sheet\", n=3):\n",
        "    examples = df[df['Y'] == label_value][clinical_col].dropna().sample(n, random_state=42)\n",
        "    print(f\"\\n=== {n} Examples where Y = {label_value} ===\\n\")\n",
        "    for i, text in enumerate(examples, start=1):\n",
        "        print(f\"--- Example {i} ---\\n{text.strip()}\\n\")\n",
        "\n",
        "print_cleaned_examples(df, label_value=1,clinical_col=\"last_week_paragraph\", n=3)\n",
        "print_cleaned_examples(df, label_value=0,clinical_col=\"last_week_paragraph\", n=3)\n"
      ],
      "metadata": {
        "id": "pEr21w3_Vkdb"
      },
      "execution_count": null,
      "outputs": []
    },
    {
      "cell_type": "code",
      "source": [],
      "metadata": {
        "id": "EnWLbVXlWpye"
      },
      "execution_count": null,
      "outputs": []
    },
    {
      "cell_type": "code",
      "source": [
        "# model = SentenceTransformer('intfloat/multilingual-e5-base')\n",
        "\n",
        "# model.to('cuda')\n",
        "\n",
        "# texts = df['last_week_paragraph'].tolist()\n",
        "\n",
        "# batch_size = 64\n",
        "\n",
        "# embeddings = []\n",
        "\n",
        "# # Process texts in batches\n",
        "# for i in tqdm(range(0, len(texts), batch_size), desc='Encoding embeddings (batch)'):\n",
        "#     batch_texts = texts[i:i+batch_size]\n",
        "\n",
        "#     with torch.no_grad():\n",
        "#         batch_embeddings = model.encode(batch_texts, normalize_embeddings=True)\n",
        "\n",
        "#     embeddings.extend(batch_embeddings)\n",
        "\n",
        "# # Save embeddings back to DataFrame\n",
        "# df['e5_embedding'] = embeddings\n"
      ],
      "metadata": {
        "id": "rxYGG64vYMDI"
      },
      "execution_count": null,
      "outputs": []
    },
    {
      "cell_type": "markdown",
      "source": [
        "# Regularization & Standartization"
      ],
      "metadata": {
        "id": "IrIBhCk_PZDs"
      }
    },
    {
      "cell_type": "code",
      "source": [
        "original_df = df.copy()"
      ],
      "metadata": {
        "id": "ggbkylAmR0Z4"
      },
      "execution_count": null,
      "outputs": []
    },
    {
      "cell_type": "code",
      "source": [
        "for col in df.columns: print(f'\"{col}\",')"
      ],
      "metadata": {
        "id": "j0Tnhcj1RpxL"
      },
      "execution_count": null,
      "outputs": []
    },
    {
      "cell_type": "code",
      "source": [
        "df.drop(columns=['clinical_sheet',\n",
        "                 'last_week_paragraph',\n",
        "                 \"match_diag_141\",\n",
        "                  \"match_rasham_after\",\n",
        "                  \"match_aspirin_after\",\n",
        "                  \"match_pdf_after\",\n",
        "                  \"essential_hypertension_sum\",\n",
        "                  \"pregnancy_hypertension_sum\",\n",
        "                  \"preeclampsia_sum\",\n",
        "                  \"eclampsia_sum\",\n",
        "                  \"labs_sum\",\n",
        "                  \"clinical_sheet\",\n",
        "                  \"no_match\",\n",
        "                  \"severity_score\",\n",
        "                  \"diagnosis_count\",\n",
        "                  \"total_diag_count\",\n",
        "                  \"severity_level\",\n",
        "                  \"diagnosis_source\",\n",
        "                  \"clinical_length\"],\n",
        "         inplace=True)"
      ],
      "metadata": {
        "id": "4l36zR8vR-4w"
      },
      "execution_count": null,
      "outputs": []
    },
    {
      "cell_type": "code",
      "source": [
        "for col in df.columns: print(f'\"{col}\",')"
      ],
      "metadata": {
        "id": "WPbOZllf4wQO"
      },
      "execution_count": null,
      "outputs": []
    },
    {
      "cell_type": "code",
      "source": [
        "# embeddings_array = np.vstack(df['e5_embedding'].values)\n",
        "\n",
        "# numeric_data = df.drop(columns=['e5_embedding','Y'])"
      ],
      "metadata": {
        "id": "XbpZ8cwcEwwm"
      },
      "execution_count": null,
      "outputs": []
    },
    {
      "cell_type": "code",
      "source": [
        "numeric_data = df.drop(columns=['Y'])"
      ],
      "metadata": {
        "id": "ZLZcRWCZHWxC"
      },
      "execution_count": null,
      "outputs": []
    },
    {
      "cell_type": "code",
      "source": [
        "from sklearn.linear_model import ElasticNetCV\n",
        "from sklearn.preprocessing import StandardScaler\n",
        "from sklearn.impute import SimpleImputer\n",
        "from sklearn.pipeline import make_pipeline\n",
        "\n",
        "y = df['Y']\n",
        "\n",
        "# Impute missing values clearly as -1 (a medically meaningless value)\n",
        "model = make_pipeline(\n",
        "    SimpleImputer(strategy='constant', fill_value=-1),\n",
        "    StandardScaler(),\n",
        "    ElasticNetCV(cv=5, random_state=42)\n",
        ")\n",
        "\n",
        "# Fit model to identify relevant features\n",
        "model.fit(numeric_data, y)\n",
        "\n",
        "coefs = pd.Series(\n",
        "    model.named_steps['elasticnetcv'].coef_,\n",
        "    index=numeric_data.columns\n",
        ")\n",
        "\n",
        "# Identify clearly relevant/irrelevant features\n",
        "selected_features = coefs[coefs.abs() > 0].index.tolist()\n",
        "removed_features = coefs[coefs.abs() == 0].index.tolist()\n",
        "\n",
        "print(\"Selected features by ElasticNet:\", selected_features)\n",
        "print(\"Removed features by ElasticNet:\", removed_features)\n"
      ],
      "metadata": {
        "id": "kwNPczn_7WPI"
      },
      "execution_count": null,
      "outputs": []
    },
    {
      "cell_type": "code",
      "source": [
        "numeric_data_selected = numeric_data[selected_features]\n",
        "\n",
        "for col in numeric_data_selected.columns: print(col)\n",
        "\n",
        "X = np.hstack([numeric_data, embeddings_array])  # איחוד הנתונים הכמותיים וה-embeddings\n"
      ],
      "metadata": {
        "id": "cyCTDoGOBWQG"
      },
      "execution_count": null,
      "outputs": []
    },
    {
      "cell_type": "code",
      "source": [
        "for col in numeric_data_selected.columns: print(col)"
      ],
      "metadata": {
        "id": "ElaFuiCjISB4"
      },
      "execution_count": null,
      "outputs": []
    },
    {
      "cell_type": "code",
      "source": [],
      "metadata": {
        "id": "Kh_smmj1JFpe"
      },
      "execution_count": null,
      "outputs": []
    },
    {
      "cell_type": "markdown",
      "source": [
        "# Model"
      ],
      "metadata": {
        "id": "7TFK2RneJGW7"
      }
    },
    {
      "cell_type": "code",
      "source": [
        "warnings.filterwarnings('ignore')\n",
        "\n",
        "# Indicator columns used for stratification\n",
        "indicator_cols = [\n",
        "    'preeclampsia_sum', 'eclampsia_sum',\n",
        "    'match_rasham_after', 'match_aspirin_after', 'match_pdf_after',\n",
        "    'essential_hypertension_sum', 'pregnancy_hypertension_sum',\n",
        "    'labs_sum'\n",
        "]\n",
        "\n",
        "# Combined stratification group\n",
        "stratify_groups = original_df[indicator_cols].astype(str).agg('-'.join, axis=1)\n",
        "\n",
        "# Class weights\n",
        "class_weight_dict = {0: 1, 1: 3}\n",
        "\n",
        "# Stratified CV\n",
        "skf = StratifiedKFold(n_splits=5, shuffle=True, random_state=42)\n",
        "\n",
        "# Results storage\n",
        "results_full = original_df.copy().reset_index(drop=True)\n",
        "results_full['predicted_proba'] = np.nan\n",
        "\n",
        "for train_idx, test_idx in skf.split(X, stratify_groups):\n",
        "    X_train, X_test = X[train_idx], X[test_idx]\n",
        "    y_train, y_test = y.iloc[train_idx], y.iloc[test_idx]\n",
        "\n",
        "    model = lgb.LGBMClassifier(class_weight=class_weight_dict, random_state=42)\n",
        "    model.fit(X_train, y_train)\n",
        "\n",
        "    y_pred_proba = model.predict_proba(X_test)[:, 1]\n",
        "    results_full.loc[test_idx, 'predicted_proba'] = y_pred_proba\n",
        "\n"
      ],
      "metadata": {
        "colab": {
          "base_uri": "https://localhost:8080/"
        },
        "id": "pzpQoxKuJJIQ",
        "outputId": "a9d4d9b5-516f-4a4b-e410-50c598ec5c14"
      },
      "execution_count": 825,
      "outputs": [
        {
          "output_type": "stream",
          "name": "stdout",
          "text": [
            "[LightGBM] [Info] Number of positive: 345, number of negative: 7647\n",
            "[LightGBM] [Info] Auto-choosing col-wise multi-threading, the overhead of testing was 0.119035 seconds.\n",
            "You can set `force_col_wise=true` to remove the overhead.\n",
            "[LightGBM] [Info] Total Bins 205820\n",
            "[LightGBM] [Info] Number of data points in the train set: 7992, number of used features: 913\n",
            "[LightGBM] [Info] [binary:BoostFromScore]: pavg=0.119212 -> initscore=-1.999912\n",
            "[LightGBM] [Info] Start training from score -1.999912\n",
            "[LightGBM] [Info] Number of positive: 346, number of negative: 7647\n",
            "[LightGBM] [Info] Auto-choosing col-wise multi-threading, the overhead of testing was 0.060350 seconds.\n",
            "You can set `force_col_wise=true` to remove the overhead.\n",
            "[LightGBM] [Info] Total Bins 205800\n",
            "[LightGBM] [Info] Number of data points in the train set: 7993, number of used features: 911\n",
            "[LightGBM] [Info] [binary:BoostFromScore]: pavg=0.119516 -> initscore=-1.997018\n",
            "[LightGBM] [Info] Start training from score -1.997018\n",
            "[LightGBM] [Info] Number of positive: 346, number of negative: 7647\n",
            "[LightGBM] [Info] Auto-choosing col-wise multi-threading, the overhead of testing was 0.085123 seconds.\n",
            "You can set `force_col_wise=true` to remove the overhead.\n",
            "[LightGBM] [Info] Total Bins 205797\n",
            "[LightGBM] [Info] Number of data points in the train set: 7993, number of used features: 913\n",
            "[LightGBM] [Info] [binary:BoostFromScore]: pavg=0.119516 -> initscore=-1.997018\n",
            "[LightGBM] [Info] Start training from score -1.997018\n",
            "[LightGBM] [Info] Number of positive: 346, number of negative: 7647\n",
            "[LightGBM] [Info] Auto-choosing col-wise multi-threading, the overhead of testing was 0.108126 seconds.\n",
            "You can set `force_col_wise=true` to remove the overhead.\n",
            "[LightGBM] [Info] Total Bins 205782\n",
            "[LightGBM] [Info] Number of data points in the train set: 7993, number of used features: 915\n",
            "[LightGBM] [Info] [binary:BoostFromScore]: pavg=0.119516 -> initscore=-1.997018\n",
            "[LightGBM] [Info] Start training from score -1.997018\n",
            "[LightGBM] [Info] Number of positive: 345, number of negative: 7648\n",
            "[LightGBM] [Info] Auto-choosing col-wise multi-threading, the overhead of testing was 0.059651 seconds.\n",
            "You can set `force_col_wise=true` to remove the overhead.\n",
            "[LightGBM] [Info] Total Bins 205802\n",
            "[LightGBM] [Info] Number of data points in the train set: 7993, number of used features: 915\n",
            "[LightGBM] [Info] [binary:BoostFromScore]: pavg=0.119198 -> initscore=-2.000043\n",
            "[LightGBM] [Info] Start training from score -2.000043\n"
          ]
        }
      ]
    },
    {
      "cell_type": "code",
      "source": [
        "results_full[[\"predicted_proba\",\"Y\"]].sort_values(by=\"predicted_proba\",ascending=False).head(10)"
      ],
      "metadata": {
        "colab": {
          "base_uri": "https://localhost:8080/",
          "height": 363
        },
        "id": "RebjBQPgc7Lj",
        "outputId": "de3f2b6f-1a7b-4722-a37a-932756419e5a"
      },
      "execution_count": 827,
      "outputs": [
        {
          "output_type": "execute_result",
          "data": {
            "text/plain": [
              "      predicted_proba  Y\n",
              "6285         0.999835  1\n",
              "667          0.999810  1\n",
              "3681         0.999808  1\n",
              "5079         0.999805  1\n",
              "4980         0.999798  1\n",
              "5398         0.999789  1\n",
              "6620         0.999782  1\n",
              "6264         0.999774  1\n",
              "1507         0.999773  1\n",
              "7041         0.999767  1"
            ],
            "text/html": [
              "\n",
              "  <div id=\"df-b315617b-71ca-4b9b-a827-b265db3aa7ac\" class=\"colab-df-container\">\n",
              "    <div>\n",
              "<style scoped>\n",
              "    .dataframe tbody tr th:only-of-type {\n",
              "        vertical-align: middle;\n",
              "    }\n",
              "\n",
              "    .dataframe tbody tr th {\n",
              "        vertical-align: top;\n",
              "    }\n",
              "\n",
              "    .dataframe thead th {\n",
              "        text-align: right;\n",
              "    }\n",
              "</style>\n",
              "<table border=\"1\" class=\"dataframe\">\n",
              "  <thead>\n",
              "    <tr style=\"text-align: right;\">\n",
              "      <th></th>\n",
              "      <th>predicted_proba</th>\n",
              "      <th>Y</th>\n",
              "    </tr>\n",
              "  </thead>\n",
              "  <tbody>\n",
              "    <tr>\n",
              "      <th>6285</th>\n",
              "      <td>0.999835</td>\n",
              "      <td>1</td>\n",
              "    </tr>\n",
              "    <tr>\n",
              "      <th>667</th>\n",
              "      <td>0.999810</td>\n",
              "      <td>1</td>\n",
              "    </tr>\n",
              "    <tr>\n",
              "      <th>3681</th>\n",
              "      <td>0.999808</td>\n",
              "      <td>1</td>\n",
              "    </tr>\n",
              "    <tr>\n",
              "      <th>5079</th>\n",
              "      <td>0.999805</td>\n",
              "      <td>1</td>\n",
              "    </tr>\n",
              "    <tr>\n",
              "      <th>4980</th>\n",
              "      <td>0.999798</td>\n",
              "      <td>1</td>\n",
              "    </tr>\n",
              "    <tr>\n",
              "      <th>5398</th>\n",
              "      <td>0.999789</td>\n",
              "      <td>1</td>\n",
              "    </tr>\n",
              "    <tr>\n",
              "      <th>6620</th>\n",
              "      <td>0.999782</td>\n",
              "      <td>1</td>\n",
              "    </tr>\n",
              "    <tr>\n",
              "      <th>6264</th>\n",
              "      <td>0.999774</td>\n",
              "      <td>1</td>\n",
              "    </tr>\n",
              "    <tr>\n",
              "      <th>1507</th>\n",
              "      <td>0.999773</td>\n",
              "      <td>1</td>\n",
              "    </tr>\n",
              "    <tr>\n",
              "      <th>7041</th>\n",
              "      <td>0.999767</td>\n",
              "      <td>1</td>\n",
              "    </tr>\n",
              "  </tbody>\n",
              "</table>\n",
              "</div>\n",
              "    <div class=\"colab-df-buttons\">\n",
              "\n",
              "  <div class=\"colab-df-container\">\n",
              "    <button class=\"colab-df-convert\" onclick=\"convertToInteractive('df-b315617b-71ca-4b9b-a827-b265db3aa7ac')\"\n",
              "            title=\"Convert this dataframe to an interactive table.\"\n",
              "            style=\"display:none;\">\n",
              "\n",
              "  <svg xmlns=\"http://www.w3.org/2000/svg\" height=\"24px\" viewBox=\"0 -960 960 960\">\n",
              "    <path d=\"M120-120v-720h720v720H120Zm60-500h600v-160H180v160Zm220 220h160v-160H400v160Zm0 220h160v-160H400v160ZM180-400h160v-160H180v160Zm440 0h160v-160H620v160ZM180-180h160v-160H180v160Zm440 0h160v-160H620v160Z\"/>\n",
              "  </svg>\n",
              "    </button>\n",
              "\n",
              "  <style>\n",
              "    .colab-df-container {\n",
              "      display:flex;\n",
              "      gap: 12px;\n",
              "    }\n",
              "\n",
              "    .colab-df-convert {\n",
              "      background-color: #E8F0FE;\n",
              "      border: none;\n",
              "      border-radius: 50%;\n",
              "      cursor: pointer;\n",
              "      display: none;\n",
              "      fill: #1967D2;\n",
              "      height: 32px;\n",
              "      padding: 0 0 0 0;\n",
              "      width: 32px;\n",
              "    }\n",
              "\n",
              "    .colab-df-convert:hover {\n",
              "      background-color: #E2EBFA;\n",
              "      box-shadow: 0px 1px 2px rgba(60, 64, 67, 0.3), 0px 1px 3px 1px rgba(60, 64, 67, 0.15);\n",
              "      fill: #174EA6;\n",
              "    }\n",
              "\n",
              "    .colab-df-buttons div {\n",
              "      margin-bottom: 4px;\n",
              "    }\n",
              "\n",
              "    [theme=dark] .colab-df-convert {\n",
              "      background-color: #3B4455;\n",
              "      fill: #D2E3FC;\n",
              "    }\n",
              "\n",
              "    [theme=dark] .colab-df-convert:hover {\n",
              "      background-color: #434B5C;\n",
              "      box-shadow: 0px 1px 3px 1px rgba(0, 0, 0, 0.15);\n",
              "      filter: drop-shadow(0px 1px 2px rgba(0, 0, 0, 0.3));\n",
              "      fill: #FFFFFF;\n",
              "    }\n",
              "  </style>\n",
              "\n",
              "    <script>\n",
              "      const buttonEl =\n",
              "        document.querySelector('#df-b315617b-71ca-4b9b-a827-b265db3aa7ac button.colab-df-convert');\n",
              "      buttonEl.style.display =\n",
              "        google.colab.kernel.accessAllowed ? 'block' : 'none';\n",
              "\n",
              "      async function convertToInteractive(key) {\n",
              "        const element = document.querySelector('#df-b315617b-71ca-4b9b-a827-b265db3aa7ac');\n",
              "        const dataTable =\n",
              "          await google.colab.kernel.invokeFunction('convertToInteractive',\n",
              "                                                    [key], {});\n",
              "        if (!dataTable) return;\n",
              "\n",
              "        const docLinkHtml = 'Like what you see? Visit the ' +\n",
              "          '<a target=\"_blank\" href=https://colab.research.google.com/notebooks/data_table.ipynb>data table notebook</a>'\n",
              "          + ' to learn more about interactive tables.';\n",
              "        element.innerHTML = '';\n",
              "        dataTable['output_type'] = 'display_data';\n",
              "        await google.colab.output.renderOutput(dataTable, element);\n",
              "        const docLink = document.createElement('div');\n",
              "        docLink.innerHTML = docLinkHtml;\n",
              "        element.appendChild(docLink);\n",
              "      }\n",
              "    </script>\n",
              "  </div>\n",
              "\n",
              "\n",
              "    <div id=\"df-33b262f2-ef58-4340-9f4c-1af4818cfcc0\">\n",
              "      <button class=\"colab-df-quickchart\" onclick=\"quickchart('df-33b262f2-ef58-4340-9f4c-1af4818cfcc0')\"\n",
              "                title=\"Suggest charts\"\n",
              "                style=\"display:none;\">\n",
              "\n",
              "<svg xmlns=\"http://www.w3.org/2000/svg\" height=\"24px\"viewBox=\"0 0 24 24\"\n",
              "     width=\"24px\">\n",
              "    <g>\n",
              "        <path d=\"M19 3H5c-1.1 0-2 .9-2 2v14c0 1.1.9 2 2 2h14c1.1 0 2-.9 2-2V5c0-1.1-.9-2-2-2zM9 17H7v-7h2v7zm4 0h-2V7h2v10zm4 0h-2v-4h2v4z\"/>\n",
              "    </g>\n",
              "</svg>\n",
              "      </button>\n",
              "\n",
              "<style>\n",
              "  .colab-df-quickchart {\n",
              "      --bg-color: #E8F0FE;\n",
              "      --fill-color: #1967D2;\n",
              "      --hover-bg-color: #E2EBFA;\n",
              "      --hover-fill-color: #174EA6;\n",
              "      --disabled-fill-color: #AAA;\n",
              "      --disabled-bg-color: #DDD;\n",
              "  }\n",
              "\n",
              "  [theme=dark] .colab-df-quickchart {\n",
              "      --bg-color: #3B4455;\n",
              "      --fill-color: #D2E3FC;\n",
              "      --hover-bg-color: #434B5C;\n",
              "      --hover-fill-color: #FFFFFF;\n",
              "      --disabled-bg-color: #3B4455;\n",
              "      --disabled-fill-color: #666;\n",
              "  }\n",
              "\n",
              "  .colab-df-quickchart {\n",
              "    background-color: var(--bg-color);\n",
              "    border: none;\n",
              "    border-radius: 50%;\n",
              "    cursor: pointer;\n",
              "    display: none;\n",
              "    fill: var(--fill-color);\n",
              "    height: 32px;\n",
              "    padding: 0;\n",
              "    width: 32px;\n",
              "  }\n",
              "\n",
              "  .colab-df-quickchart:hover {\n",
              "    background-color: var(--hover-bg-color);\n",
              "    box-shadow: 0 1px 2px rgba(60, 64, 67, 0.3), 0 1px 3px 1px rgba(60, 64, 67, 0.15);\n",
              "    fill: var(--button-hover-fill-color);\n",
              "  }\n",
              "\n",
              "  .colab-df-quickchart-complete:disabled,\n",
              "  .colab-df-quickchart-complete:disabled:hover {\n",
              "    background-color: var(--disabled-bg-color);\n",
              "    fill: var(--disabled-fill-color);\n",
              "    box-shadow: none;\n",
              "  }\n",
              "\n",
              "  .colab-df-spinner {\n",
              "    border: 2px solid var(--fill-color);\n",
              "    border-color: transparent;\n",
              "    border-bottom-color: var(--fill-color);\n",
              "    animation:\n",
              "      spin 1s steps(1) infinite;\n",
              "  }\n",
              "\n",
              "  @keyframes spin {\n",
              "    0% {\n",
              "      border-color: transparent;\n",
              "      border-bottom-color: var(--fill-color);\n",
              "      border-left-color: var(--fill-color);\n",
              "    }\n",
              "    20% {\n",
              "      border-color: transparent;\n",
              "      border-left-color: var(--fill-color);\n",
              "      border-top-color: var(--fill-color);\n",
              "    }\n",
              "    30% {\n",
              "      border-color: transparent;\n",
              "      border-left-color: var(--fill-color);\n",
              "      border-top-color: var(--fill-color);\n",
              "      border-right-color: var(--fill-color);\n",
              "    }\n",
              "    40% {\n",
              "      border-color: transparent;\n",
              "      border-right-color: var(--fill-color);\n",
              "      border-top-color: var(--fill-color);\n",
              "    }\n",
              "    60% {\n",
              "      border-color: transparent;\n",
              "      border-right-color: var(--fill-color);\n",
              "    }\n",
              "    80% {\n",
              "      border-color: transparent;\n",
              "      border-right-color: var(--fill-color);\n",
              "      border-bottom-color: var(--fill-color);\n",
              "    }\n",
              "    90% {\n",
              "      border-color: transparent;\n",
              "      border-bottom-color: var(--fill-color);\n",
              "    }\n",
              "  }\n",
              "</style>\n",
              "\n",
              "      <script>\n",
              "        async function quickchart(key) {\n",
              "          const quickchartButtonEl =\n",
              "            document.querySelector('#' + key + ' button');\n",
              "          quickchartButtonEl.disabled = true;  // To prevent multiple clicks.\n",
              "          quickchartButtonEl.classList.add('colab-df-spinner');\n",
              "          try {\n",
              "            const charts = await google.colab.kernel.invokeFunction(\n",
              "                'suggestCharts', [key], {});\n",
              "          } catch (error) {\n",
              "            console.error('Error during call to suggestCharts:', error);\n",
              "          }\n",
              "          quickchartButtonEl.classList.remove('colab-df-spinner');\n",
              "          quickchartButtonEl.classList.add('colab-df-quickchart-complete');\n",
              "        }\n",
              "        (() => {\n",
              "          let quickchartButtonEl =\n",
              "            document.querySelector('#df-33b262f2-ef58-4340-9f4c-1af4818cfcc0 button');\n",
              "          quickchartButtonEl.style.display =\n",
              "            google.colab.kernel.accessAllowed ? 'block' : 'none';\n",
              "        })();\n",
              "      </script>\n",
              "    </div>\n",
              "\n",
              "    </div>\n",
              "  </div>\n"
            ],
            "application/vnd.google.colaboratory.intrinsic+json": {
              "type": "dataframe",
              "summary": "{\n  \"name\": \"results_full[[\\\"predicted_proba\\\",\\\"Y\\\"]]\",\n  \"rows\": 10,\n  \"fields\": [\n    {\n      \"column\": \"predicted_proba\",\n      \"properties\": {\n        \"dtype\": \"number\",\n        \"std\": 2.1124881164327695e-05,\n        \"min\": 0.999767053113886,\n        \"max\": 0.999835128021772,\n        \"num_unique_values\": 10,\n        \"samples\": [\n          0.9997725407899516,\n          0.9998099520168928,\n          0.9997889539902924\n        ],\n        \"semantic_type\": \"\",\n        \"description\": \"\"\n      }\n    },\n    {\n      \"column\": \"Y\",\n      \"properties\": {\n        \"dtype\": \"number\",\n        \"std\": 0,\n        \"min\": 1,\n        \"max\": 1,\n        \"num_unique_values\": 1,\n        \"samples\": [\n          1\n        ],\n        \"semantic_type\": \"\",\n        \"description\": \"\"\n      }\n    }\n  ]\n}"
            }
          },
          "metadata": {},
          "execution_count": 827
        }
      ]
    },
    {
      "cell_type": "code",
      "source": [
        "# Precision-Recall Curve\n",
        "precision, recall, thresholds = precision_recall_curve(y, results_full['predicted_proba'])\n",
        "\n",
        "# Find intersection point of precision and recall\n",
        "intersection = np.argmin(np.abs(precision[:-1] - recall[:-1]))\n",
        "optimal_threshold = thresholds[intersection]\n",
        "\n",
        "\n",
        "plt.figure(figsize=(10, 7))\n",
        "plt.plot(thresholds, precision[:-1], label='Precision', color='blue', linewidth=2)\n",
        "plt.plot(thresholds, recall[:-1], label='Recall', color='red', linewidth=2)\n",
        "plt.axvline(x=optimal_threshold, linestyle='--', color='green', label=f'Optimal Threshold = {optimal_threshold:.2f}')\n",
        "plt.xlabel('Threshold', fontsize=14)\n",
        "plt.ylabel('Score', fontsize=14)\n",
        "plt.title('Precision-Recall vs Threshold', fontsize=16)\n",
        "plt.legend()\n",
        "plt.grid(True)\n",
        "plt.show()"
      ],
      "metadata": {
        "colab": {
          "base_uri": "https://localhost:8080/",
          "height": 653
        },
        "id": "iQDKss59dis_",
        "outputId": "bc1b51e0-6c03-4f40-8c15-cd1117b37df6"
      },
      "execution_count": 843,
      "outputs": [
        {
          "output_type": "display_data",
          "data": {
            "text/plain": [
              "<Figure size 1000x700 with 1 Axes>"
            ],
            "image/png": "[encoded data removed]"
          },
          "metadata": {}
        }
      ]
    },
    {
      "cell_type": "code",
      "source": [
        "# Show confusion matrix and metrics at selected threshold\n",
        "def evaluate_threshold(threshold, y_true, y_proba):\n",
        "    y_pred = (y_proba >= threshold).astype(int)\n",
        "    cm = confusion_matrix(y_true, y_pred)\n",
        "    report = classification_report(y_true, y_pred)\n",
        "\n",
        "    print(f\"\\nConfusion Matrix (Threshold = {threshold:.2f}):\")\n",
        "    sns.heatmap(cm, annot=True, fmt='d', cmap='Blues',\n",
        "                xticklabels=['Predicted 0', 'Predicted 1'],\n",
        "                yticklabels=['True 0', 'True 1'])\n",
        "    plt.title(f'Confusion Matrix at Threshold {threshold:.2f}')\n",
        "    plt.ylabel('True label')\n",
        "    plt.xlabel('Predicted label')\n",
        "    plt.show()\n",
        "\n",
        "    print(report)\n",
        "\n",
        "# Evaluate at optimal threshold\n",
        "evaluate_threshold(optimal_threshold, y, results_full['predicted_proba'])\n"
      ],
      "metadata": {
        "colab": {
          "base_uri": "https://localhost:8080/",
          "height": 681
        },
        "id": "LwUUlWhpTLKW",
        "outputId": "dc184818-4748-4b7c-f2ff-dd169c706e19"
      },
      "execution_count": 848,
      "outputs": [
        {
          "output_type": "stream",
          "name": "stdout",
          "text": [
            "\n",
            "Confusion Matrix (Threshold = 0.05):\n"
          ]
        },
        {
          "output_type": "display_data",
          "data": {
            "text/plain": [
              "<Figure size 640x480 with 2 Axes>"
            ],
            "image/png": "[encoded data removed]"
          },
          "metadata": {}
        },
        {
          "output_type": "stream",
          "name": "stdout",
          "text": [
            "              precision    recall  f1-score   support\n",
            "\n",
            "           0       0.99      0.99      0.99      9559\n",
            "           1       0.86      0.86      0.86       432\n",
            "\n",
            "    accuracy                           0.99      9991\n",
            "   macro avg       0.93      0.93      0.93      9991\n",
            "weighted avg       0.99      0.99      0.99      9991\n",
            "\n"
          ]
        }
      ]
    },
    {
      "cell_type": "code",
      "source": [
        "# FP and FN analysis by indicators\n",
        "fp_fn_df = results_full.copy()\n",
        "fp_fn_df['FP'] = ((fp_fn_df['Y'] == 0) & (fp_fn_df['predicted_proba'] >= optimal_threshold))\n",
        "fp_fn_df['FN'] = ((fp_fn_df['Y'] == 1) & (fp_fn_df['predicted_proba'] < optimal_threshold))\n",
        "\n",
        "fp_data = fp_fn_df[fp_fn_df['FP']]\n",
        "fn_data = fp_fn_df[fp_fn_df['FN']]\n",
        "\n",
        "print(\"Total FP:\", fp_fn_df['FP'].sum())\n",
        "print(\"Total FN:\", fp_fn_df['FN'].sum())\n"
      ],
      "metadata": {
        "colab": {
          "base_uri": "https://localhost:8080/"
        },
        "id": "2rvrBPEdTvlC",
        "outputId": "ea120905-f0e1-42d8-fa33-3f6f33bad0f5"
      },
      "execution_count": 850,
      "outputs": [
        {
          "output_type": "stream",
          "name": "stdout",
          "text": [
            "Total FP: 61\n",
            "Total FN: 61\n"
          ]
        }
      ]
    },
    {
      "cell_type": "code",
      "source": [
        "\n",
        "\n",
        "# Calculate percentage of indicators for FN\n",
        "fn_indicator_means = fn_data[indicator_cols].mean().sort_values(ascending=False) * 100\n",
        "\n",
        "\n",
        "# Plot for False Negatives\n",
        "plt.figure(figsize=(10, 5))\n",
        "fn_indicator_means.plot(kind='bar', color='lightblue')\n",
        "plt.title('Indicator Distribution for False Negatives')\n",
        "plt.ylabel('Percentage (%)')\n",
        "plt.xlabel('Indicators')\n",
        "plt.xticks(rotation=45, ha='right')\n",
        "plt.grid(axis='y', linestyle='--', alpha=0.7)\n",
        "plt.tight_layout()\n",
        "plt.show()"
      ],
      "metadata": {
        "colab": {
          "base_uri": "https://localhost:8080/",
          "height": 501
        },
        "id": "HcQ0sT7LU6Ug",
        "outputId": "5ca7e3c1-dfb5-474e-8d70-4cdde0aeb7fd"
      },
      "execution_count": 851,
      "outputs": [
        {
          "output_type": "display_data",
          "data": {
            "text/plain": [
              "<Figure size 1000x500 with 1 Axes>"
            ],
            "image/png": "[encoded data removed]"
          },
          "metadata": {}
        }
      ]
    },
    {
      "cell_type": "code",
      "source": [
        "\n",
        "fp_analysis_cols = ['demog_customer_age', 'measure_blood_pressure_sys_max_val', 'measure_blood_pressure_dias_max_val']\n",
        "\n",
        "fp_data = fp_fn_df[fp_fn_df['FP']]\n",
        "\n",
        "# Plot FP distributions for relevant numeric columns\n",
        "for col in fp_analysis_cols:\n",
        "    plt.figure(figsize=(8, 5))\n",
        "    sns.histplot(fp_data[col].dropna(), kde=True, color='salmon', bins=20)\n",
        "    plt.title(f'Distribution of {col} in False Positives')\n",
        "    plt.xlabel(col)\n",
        "    plt.ylabel('Frequency')\n",
        "    plt.grid(alpha=0.5)\n",
        "    plt.tight_layout()\n",
        "    plt.show()\n"
      ],
      "metadata": {
        "colab": {
          "base_uri": "https://localhost:8080/",
          "height": 1000
        },
        "id": "IfK3I9ZZVgZk",
        "outputId": "c23814d2-0577-478d-be40-71004d5be371"
      },
      "execution_count": 852,
      "outputs": [
        {
          "output_type": "display_data",
          "data": {
            "text/plain": [
              "<Figure size 800x500 with 1 Axes>"
            ],
            "image/png": "[encoded data removed]"
          },
          "metadata": {}
        },
        {
          "output_type": "display_data",
          "data": {
            "text/plain": [
              "<Figure size 800x500 with 1 Axes>"
            ],
            "image/png": "[encoded data removed]"
          },
          "metadata": {}
        },
        {
          "output_type": "display_data",
          "data": {
            "text/plain": [
              "<Figure size 800x500 with 1 Axes>"
            ],
            "image/png": "[encoded data removed]"
          },
          "metadata": {}
        }
      ]
    },
    {
      "cell_type": "code",
      "source": [
        "results_full.sort_values(by='predicted_proba', ascending=False).head(10)"
      ],
      "metadata": {
        "id": "Xgo40EGuSKXh"
      },
      "execution_count": null,
      "outputs": []
    },
    {
      "cell_type": "code",
      "source": [
        "results_full.head(3).T"
      ],
      "metadata": {
        "colab": {
          "base_uri": "https://localhost:8080/",
          "height": 423
        },
        "id": "uf6YsG8FOQTG",
        "outputId": "2835510b-5fc4-4f2b-f7db-8c738373901f"
      },
      "execution_count": 854,
      "outputs": [
        {
          "output_type": "execute_result",
          "data": {
            "text/plain": [
              "                                                                             0  \\\n",
              "demog_capitationcoefficient                                               0.73   \n",
              "demog_customer_age                                                        33.0   \n",
              "smoking_is_smoker                                                          0.0   \n",
              "smoking_smoking_years                                                      0.0   \n",
              "smoking_total_heavy_smokers                                                0.0   \n",
              "...                                                                        ...   \n",
              "word_ראייה                                                                   0   \n",
              "word_רעלת                                                                    0   \n",
              "word_שנים                                                                    0   \n",
              "last_week_paragraph          שבוע 15\\n\\nתלונות: תחושת חוסר נוחות באזור הבטן...   \n",
              "predicted_proba                                                       0.000015   \n",
              "\n",
              "                                                                             1  \\\n",
              "demog_capitationcoefficient                                               0.79   \n",
              "demog_customer_age                                                        34.0   \n",
              "smoking_is_smoker                                                          1.0   \n",
              "smoking_smoking_years                                                     1.86   \n",
              "smoking_total_heavy_smokers                                                0.0   \n",
              "...                                                                        ...   \n",
              "word_ראייה                                                                   0   \n",
              "word_רעלת                                                                    0   \n",
              "word_שנים                                                                    0   \n",
              "last_week_paragraph          שבוע 15 להיריון\\n\\nתלונות: אין תלונות מיוחדות....   \n",
              "predicted_proba                                                       0.000015   \n",
              "\n",
              "                                                                             2  \n",
              "demog_capitationcoefficient                                               0.79  \n",
              "demog_customer_age                                                        35.0  \n",
              "smoking_is_smoker                                                          2.0  \n",
              "smoking_smoking_years                                                     8.92  \n",
              "smoking_total_heavy_smokers                                                0.0  \n",
              "...                                                                        ...  \n",
              "word_ראייה                                                                   0  \n",
              "word_רעלת                                                                    0  \n",
              "word_שנים                                                                    0  \n",
              "last_week_paragraph          שבוע 15 להריון\\n\\nתלונות: המטופלת מתארת תחושת ...  \n",
              "predicted_proba                                                        0.00003  \n",
              "\n",
              "[201 rows x 3 columns]"
            ],
            "text/html": [
              "\n",
              "  <div id=\"df-bc598c8e-8afd-493d-9b3b-afa1c65ae803\" class=\"colab-df-container\">\n",
              "    <div>\n",
              "<style scoped>\n",
              "    .dataframe tbody tr th:only-of-type {\n",
              "        vertical-align: middle;\n",
              "    }\n",
              "\n",
              "    .dataframe tbody tr th {\n",
              "        vertical-align: top;\n",
              "    }\n",
              "\n",
              "    .dataframe thead th {\n",
              "        text-align: right;\n",
              "    }\n",
              "</style>\n",
              "<table border=\"1\" class=\"dataframe\">\n",
              "  <thead>\n",
              "    <tr style=\"text-align: right;\">\n",
              "      <th></th>\n",
              "      <th>0</th>\n",
              "      <th>1</th>\n",
              "      <th>2</th>\n",
              "    </tr>\n",
              "  </thead>\n",
              "  <tbody>\n",
              "    <tr>\n",
              "      <th>demog_capitationcoefficient</th>\n",
              "      <td>0.73</td>\n",
              "      <td>0.79</td>\n",
              "      <td>0.79</td>\n",
              "    </tr>\n",
              "    <tr>\n",
              "      <th>demog_customer_age</th>\n",
              "      <td>33.0</td>\n",
              "      <td>34.0</td>\n",
              "      <td>35.0</td>\n",
              "    </tr>\n",
              "    <tr>\n",
              "      <th>smoking_is_smoker</th>\n",
              "      <td>0.0</td>\n",
              "      <td>1.0</td>\n",
              "      <td>2.0</td>\n",
              "    </tr>\n",
              "    <tr>\n",
              "      <th>smoking_smoking_years</th>\n",
              "      <td>0.0</td>\n",
              "      <td>1.86</td>\n",
              "      <td>8.92</td>\n",
              "    </tr>\n",
              "    <tr>\n",
              "      <th>smoking_total_heavy_smokers</th>\n",
              "      <td>0.0</td>\n",
              "      <td>0.0</td>\n",
              "      <td>0.0</td>\n",
              "    </tr>\n",
              "    <tr>\n",
              "      <th>...</th>\n",
              "      <td>...</td>\n",
              "      <td>...</td>\n",
              "      <td>...</td>\n",
              "    </tr>\n",
              "    <tr>\n",
              "      <th>word_ראייה</th>\n",
              "      <td>0</td>\n",
              "      <td>0</td>\n",
              "      <td>0</td>\n",
              "    </tr>\n",
              "    <tr>\n",
              "      <th>word_רעלת</th>\n",
              "      <td>0</td>\n",
              "      <td>0</td>\n",
              "      <td>0</td>\n",
              "    </tr>\n",
              "    <tr>\n",
              "      <th>word_שנים</th>\n",
              "      <td>0</td>\n",
              "      <td>0</td>\n",
              "      <td>0</td>\n",
              "    </tr>\n",
              "    <tr>\n",
              "      <th>last_week_paragraph</th>\n",
              "      <td>שבוע 15\\n\\nתלונות: תחושת חוסר נוחות באזור הבטן...</td>\n",
              "      <td>שבוע 15 להיריון\\n\\nתלונות: אין תלונות מיוחדות....</td>\n",
              "      <td>שבוע 15 להריון\\n\\nתלונות: המטופלת מתארת תחושת ...</td>\n",
              "    </tr>\n",
              "    <tr>\n",
              "      <th>predicted_proba</th>\n",
              "      <td>0.000015</td>\n",
              "      <td>0.000015</td>\n",
              "      <td>0.00003</td>\n",
              "    </tr>\n",
              "  </tbody>\n",
              "</table>\n",
              "<p>201 rows × 3 columns</p>\n",
              "</div>\n",
              "    <div class=\"colab-df-buttons\">\n",
              "\n",
              "  <div class=\"colab-df-container\">\n",
              "    <button class=\"colab-df-convert\" onclick=\"convertToInteractive('df-bc598c8e-8afd-493d-9b3b-afa1c65ae803')\"\n",
              "            title=\"Convert this dataframe to an interactive table.\"\n",
              "            style=\"display:none;\">\n",
              "\n",
              "  <svg xmlns=\"http://www.w3.org/2000/svg\" height=\"24px\" viewBox=\"0 -960 960 960\">\n",
              "    <path d=\"M120-120v-720h720v720H120Zm60-500h600v-160H180v160Zm220 220h160v-160H400v160Zm0 220h160v-160H400v160ZM180-400h160v-160H180v160Zm440 0h160v-160H620v160ZM180-180h160v-160H180v160Zm440 0h160v-160H620v160Z\"/>\n",
              "  </svg>\n",
              "    </button>\n",
              "\n",
              "  <style>\n",
              "    .colab-df-container {\n",
              "      display:flex;\n",
              "      gap: 12px;\n",
              "    }\n",
              "\n",
              "    .colab-df-convert {\n",
              "      background-color: #E8F0FE;\n",
              "      border: none;\n",
              "      border-radius: 50%;\n",
              "      cursor: pointer;\n",
              "      display: none;\n",
              "      fill: #1967D2;\n",
              "      height: 32px;\n",
              "      padding: 0 0 0 0;\n",
              "      width: 32px;\n",
              "    }\n",
              "\n",
              "    .colab-df-convert:hover {\n",
              "      background-color: #E2EBFA;\n",
              "      box-shadow: 0px 1px 2px rgba(60, 64, 67, 0.3), 0px 1px 3px 1px rgba(60, 64, 67, 0.15);\n",
              "      fill: #174EA6;\n",
              "    }\n",
              "\n",
              "    .colab-df-buttons div {\n",
              "      margin-bottom: 4px;\n",
              "    }\n",
              "\n",
              "    [theme=dark] .colab-df-convert {\n",
              "      background-color: #3B4455;\n",
              "      fill: #D2E3FC;\n",
              "    }\n",
              "\n",
              "    [theme=dark] .colab-df-convert:hover {\n",
              "      background-color: #434B5C;\n",
              "      box-shadow: 0px 1px 3px 1px rgba(0, 0, 0, 0.15);\n",
              "      filter: drop-shadow(0px 1px 2px rgba(0, 0, 0, 0.3));\n",
              "      fill: #FFFFFF;\n",
              "    }\n",
              "  </style>\n",
              "\n",
              "    <script>\n",
              "      const buttonEl =\n",
              "        document.querySelector('#df-bc598c8e-8afd-493d-9b3b-afa1c65ae803 button.colab-df-convert');\n",
              "      buttonEl.style.display =\n",
              "        google.colab.kernel.accessAllowed ? 'block' : 'none';\n",
              "\n",
              "      async function convertToInteractive(key) {\n",
              "        const element = document.querySelector('#df-bc598c8e-8afd-493d-9b3b-afa1c65ae803');\n",
              "        const dataTable =\n",
              "          await google.colab.kernel.invokeFunction('convertToInteractive',\n",
              "                                                    [key], {});\n",
              "        if (!dataTable) return;\n",
              "\n",
              "        const docLinkHtml = 'Like what you see? Visit the ' +\n",
              "          '<a target=\"_blank\" href=https://colab.research.google.com/notebooks/data_table.ipynb>data table notebook</a>'\n",
              "          + ' to learn more about interactive tables.';\n",
              "        element.innerHTML = '';\n",
              "        dataTable['output_type'] = 'display_data';\n",
              "        await google.colab.output.renderOutput(dataTable, element);\n",
              "        const docLink = document.createElement('div');\n",
              "        docLink.innerHTML = docLinkHtml;\n",
              "        element.appendChild(docLink);\n",
              "      }\n",
              "    </script>\n",
              "  </div>\n",
              "\n",
              "\n",
              "    <div id=\"df-35889dd4-2030-4e03-945f-cf3ff41cf481\">\n",
              "      <button class=\"colab-df-quickchart\" onclick=\"quickchart('df-35889dd4-2030-4e03-945f-cf3ff41cf481')\"\n",
              "                title=\"Suggest charts\"\n",
              "                style=\"display:none;\">\n",
              "\n",
              "<svg xmlns=\"http://www.w3.org/2000/svg\" height=\"24px\"viewBox=\"0 0 24 24\"\n",
              "     width=\"24px\">\n",
              "    <g>\n",
              "        <path d=\"M19 3H5c-1.1 0-2 .9-2 2v14c0 1.1.9 2 2 2h14c1.1 0 2-.9 2-2V5c0-1.1-.9-2-2-2zM9 17H7v-7h2v7zm4 0h-2V7h2v10zm4 0h-2v-4h2v4z\"/>\n",
              "    </g>\n",
              "</svg>\n",
              "      </button>\n",
              "\n",
              "<style>\n",
              "  .colab-df-quickchart {\n",
              "      --bg-color: #E8F0FE;\n",
              "      --fill-color: #1967D2;\n",
              "      --hover-bg-color: #E2EBFA;\n",
              "      --hover-fill-color: #174EA6;\n",
              "      --disabled-fill-color: #AAA;\n",
              "      --disabled-bg-color: #DDD;\n",
              "  }\n",
              "\n",
              "  [theme=dark] .colab-df-quickchart {\n",
              "      --bg-color: #3B4455;\n",
              "      --fill-color: #D2E3FC;\n",
              "      --hover-bg-color: #434B5C;\n",
              "      --hover-fill-color: #FFFFFF;\n",
              "      --disabled-bg-color: #3B4455;\n",
              "      --disabled-fill-color: #666;\n",
              "  }\n",
              "\n",
              "  .colab-df-quickchart {\n",
              "    background-color: var(--bg-color);\n",
              "    border: none;\n",
              "    border-radius: 50%;\n",
              "    cursor: pointer;\n",
              "    display: none;\n",
              "    fill: var(--fill-color);\n",
              "    height: 32px;\n",
              "    padding: 0;\n",
              "    width: 32px;\n",
              "  }\n",
              "\n",
              "  .colab-df-quickchart:hover {\n",
              "    background-color: var(--hover-bg-color);\n",
              "    box-shadow: 0 1px 2px rgba(60, 64, 67, 0.3), 0 1px 3px 1px rgba(60, 64, 67, 0.15);\n",
              "    fill: var(--button-hover-fill-color);\n",
              "  }\n",
              "\n",
              "  .colab-df-quickchart-complete:disabled,\n",
              "  .colab-df-quickchart-complete:disabled:hover {\n",
              "    background-color: var(--disabled-bg-color);\n",
              "    fill: var(--disabled-fill-color);\n",
              "    box-shadow: none;\n",
              "  }\n",
              "\n",
              "  .colab-df-spinner {\n",
              "    border: 2px solid var(--fill-color);\n",
              "    border-color: transparent;\n",
              "    border-bottom-color: var(--fill-color);\n",
              "    animation:\n",
              "      spin 1s steps(1) infinite;\n",
              "  }\n",
              "\n",
              "  @keyframes spin {\n",
              "    0% {\n",
              "      border-color: transparent;\n",
              "      border-bottom-color: var(--fill-color);\n",
              "      border-left-color: var(--fill-color);\n",
              "    }\n",
              "    20% {\n",
              "      border-color: transparent;\n",
              "      border-left-color: var(--fill-color);\n",
              "      border-top-color: var(--fill-color);\n",
              "    }\n",
              "    30% {\n",
              "      border-color: transparent;\n",
              "      border-left-color: var(--fill-color);\n",
              "      border-top-color: var(--fill-color);\n",
              "      border-right-color: var(--fill-color);\n",
              "    }\n",
              "    40% {\n",
              "      border-color: transparent;\n",
              "      border-right-color: var(--fill-color);\n",
              "      border-top-color: var(--fill-color);\n",
              "    }\n",
              "    60% {\n",
              "      border-color: transparent;\n",
              "      border-right-color: var(--fill-color);\n",
              "    }\n",
              "    80% {\n",
              "      border-color: transparent;\n",
              "      border-right-color: var(--fill-color);\n",
              "      border-bottom-color: var(--fill-color);\n",
              "    }\n",
              "    90% {\n",
              "      border-color: transparent;\n",
              "      border-bottom-color: var(--fill-color);\n",
              "    }\n",
              "  }\n",
              "</style>\n",
              "\n",
              "      <script>\n",
              "        async function quickchart(key) {\n",
              "          const quickchartButtonEl =\n",
              "            document.querySelector('#' + key + ' button');\n",
              "          quickchartButtonEl.disabled = true;  // To prevent multiple clicks.\n",
              "          quickchartButtonEl.classList.add('colab-df-spinner');\n",
              "          try {\n",
              "            const charts = await google.colab.kernel.invokeFunction(\n",
              "                'suggestCharts', [key], {});\n",
              "          } catch (error) {\n",
              "            console.error('Error during call to suggestCharts:', error);\n",
              "          }\n",
              "          quickchartButtonEl.classList.remove('colab-df-spinner');\n",
              "          quickchartButtonEl.classList.add('colab-df-quickchart-complete');\n",
              "        }\n",
              "        (() => {\n",
              "          let quickchartButtonEl =\n",
              "            document.querySelector('#df-35889dd4-2030-4e03-945f-cf3ff41cf481 button');\n",
              "          quickchartButtonEl.style.display =\n",
              "            google.colab.kernel.accessAllowed ? 'block' : 'none';\n",
              "        })();\n",
              "      </script>\n",
              "    </div>\n",
              "\n",
              "    </div>\n",
              "  </div>\n"
            ],
            "application/vnd.google.colaboratory.intrinsic+json": {
              "type": "dataframe",
              "variable_name": "results_full"
            }
          },
          "metadata": {},
          "execution_count": 854
        }
      ]
    },
    {
      "cell_type": "markdown",
      "source": [
        "# TODO"
      ],
      "metadata": {
        "id": "SR1A_OjE6bAi"
      }
    },
    {
      "cell_type": "markdown",
      "source": [
        "Elastic Net + Standard Scaler\n",
        "\n",
        "יש הרבה פיצ'רים, עם המון קורלציות, גם בתוך קבוצות וגם ביניהן.\n"
      ],
      "metadata": {
        "id": "jbn_NkZNQG9P"
      }
    },
    {
      "cell_type": "markdown",
      "source": [
        "למצוא קורלציות גבוהות  ולהתמקד בהם יותר"
      ],
      "metadata": {
        "id": "ukObrYaoMlKO"
      }
    },
    {
      "cell_type": "code",
      "source": [],
      "metadata": {
        "id": "2T3JiY8KMkep"
      },
      "execution_count": null,
      "outputs": []
    },
    {
      "cell_type": "code",
      "source": [],
      "metadata": {
        "id": "rvlCeJlWQGTP"
      },
      "execution_count": null,
      "outputs": []
    },
    {
      "cell_type": "markdown",
      "source": [
        "TODO – השוואת ממצאים מהספרות לדאטה:\n",
        "\n",
        "[ ] גבול לחץ דם גבוה בשבוע 10–13\n",
        "\n",
        "[ ] חומצת שתן מוגברת (Uric Acid)\n",
        "\n",
        "[ ] BMI גבוה\n",
        "\n",
        "[ ] גיל אם מבוגר (demog_customer_age)\n",
        "\n",
        "[ ] היסטוריה של GH/PE\n",
        "\n",
        "[ ] היסטוריה משפחתית של GH/PE\n",
        "\n",
        "[ ] היסטוריה של רעלת הריון\n",
        "\n",
        "[ ] יתר לחץ דם כרוני\n",
        "\n",
        "[ ] סוכרת טרום הריונית\n",
        "\n",
        "[ ] מחלת כליה כרונית\n",
        "\n",
        "[ ] מחלות אוטואימוניות (APS, SLE)\n",
        "\n",
        "[ ] הריון מרובה עוברים (lab_num_of_fetuses_last_value – קבוע)\n",
        "\n",
        "[ ] IVF או תרומת ביצית\n",
        "\n",
        "[ ] פרימיפריות (הריון ראשון)\n",
        "\n",
        "[ ] השמנת יתר (BMI ≥30)\n",
        "\n",
        "[ ] היסטוריה משפחתית של רעלת\n",
        "\n",
        "[ ] גיל אם מתקדם (>35) (demog_customer_age)\n",
        "\n",
        "[ ] מרווח >10 שנים בין הריונות\n",
        "\n",
        "[ ] מוצא אתני / סטטוס סוציו־אקונומי נמוך\n",
        "\n",
        "[ ] MAP גבוה בשבוע 12\n",
        "\n",
        "[ ] דופלר עורקי רחם פתולוגי (PI גבוה, Notch)\n",
        "\n",
        "[ ] PAPP-A נמוך (lab_papp_a_MoM_last_value)\n",
        "\n",
        "[ ] PlGF נמוך\n",
        "\n",
        "[ ] sFlt-1 / sEng גבוהים\n",
        "\n",
        "[ ] PP13 נמוך\n",
        "\n",
        "[ ] יחס NLR גבוה\n",
        "\n",
        "[ ] היסטוריה של אקלמפסיה\n",
        "\n",
        "[ ] גיל אימהי צעיר (≤16) (demog_customer_age)\n",
        "\n",
        "[ ] עישון בהריון (smoking_is_smoker)\n",
        "\n",
        "[ ] אנמיה או תת־תזונה (Hemoglobin, RBC וכו')\n"
      ],
      "metadata": {
        "id": "sFxCzOMU6bD1"
      }
    },
    {
      "cell_type": "markdown",
      "source": [
        "להוסיף אגריגציה - לפחות 2 אגריציות\n",
        "\n",
        "אינדיקטור אם היתה אבחנה בחצי שנה אחרונה\n",
        "\n",
        "\n",
        "לפחות 3 פיצ'רים ."
      ],
      "metadata": {
        "id": "QyUl-TyAOxLf"
      }
    },
    {
      "cell_type": "code",
      "source": [
        "\n"
      ],
      "metadata": {
        "id": "B24sgn-4Ov4P"
      },
      "execution_count": null,
      "outputs": []
    },
    {
      "cell_type": "markdown",
      "source": [
        "לתת חלוקה שווה לפי הרמות של בבדיקות וכו בחלוקה"
      ],
      "metadata": {
        "id": "9hi4RF0lOAIm"
      }
    },
    {
      "cell_type": "markdown",
      "source": [
        "1. ✅ Missing Impact Analysis\n",
        "איך חוסרים בפיצ’ר משפיעים על Y?\n",
        "\n",
        "האם נשים בלי בדיקה הן דווקא אלה עם אבחנה?\n",
        "→ זה אינפורמטיבי!\n",
        "\n",
        "2. ✅ Variance Filtering\n",
        "משתנים עם שונות אפס או כמעט אפס → להסיר\n",
        "\n",
        "תראי שעברת על זה אוטומטית, לא ידנית\n",
        "\n",
        "3. ✅ Binary / Categorical Profiling\n",
        "לכל עמודה קטגוריאלית — value counts\n",
        "\n",
        "לא לחשוב ש־int = continuous\n",
        "\n",
        "עמודות עם 2–5 ערכים = candidates ל־One Hot או Label Encoding\n",
        "\n",
        "4. ✅ Feature Redundancy\n",
        "heatmap בתוך תתי־קבוצות\n",
        "\n",
        "או Clustering של פיצ’רים לפי קורלציה\n",
        "\n",
        "5. ✅ Interaction Candidates\n",
        "חיתוכים מעניינים:\n",
        "preeclampsia_sum לפי גיל\n",
        "lab_feature לפי מספר עוברים\n",
        "\n",
        "זה בסיס ל־feature engineering מתקדם\n",
        "\n",
        "6. ✅ Leakage Detection\n",
        "כל משתנה עם corr(Y) > 0.9 – לבדוק אם לא זמינות עתידית\n",
        "\n",
        "או משתנים עם value distribution שונה רק אחרי week 15\n",
        "\n"
      ],
      "metadata": {
        "id": "aRXjhkq4l0CG"
      }
    },
    {
      "cell_type": "code",
      "source": [
        "df.describe()"
      ],
      "metadata": {
        "id": "wxBnjPqJTjcb"
      },
      "execution_count": null,
      "outputs": []
    },
    {
      "cell_type": "code",
      "source": [
        "df.head(2).T"
      ],
      "metadata": {
        "id": "Z5x8sPYFTJuL"
      },
      "execution_count": null,
      "outputs": []
    },
    {
      "cell_type": "code",
      "source": [
        "df.isnull().sum().sort_values(ascending=False)"
      ],
      "metadata": {
        "id": "JO47PU5XUwQ7"
      },
      "execution_count": null,
      "outputs": []
    },
    {
      "cell_type": "code",
      "source": [],
      "metadata": {
        "id": "Jt-euVL5JBOo"
      },
      "execution_count": null,
      "outputs": []
    },
    {
      "cell_type": "markdown",
      "source": [
        "# Targets Correlations"
      ],
      "metadata": {
        "id": "FpyWgfOJJB82"
      }
    },
    {
      "cell_type": "code",
      "source": [],
      "metadata": {
        "id": "YFYr8onAC9ay"
      },
      "execution_count": null,
      "outputs": []
    }
  ]
}